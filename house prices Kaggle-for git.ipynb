{
 "cells": [
  {
   "cell_type": "markdown",
   "id": "6fb83a16-56d7-4e1f-b3cb-269e05e2fd4e",
   "metadata": {},
   "source": [
    "## Import & load"
   ]
  },
  {
   "cell_type": "code",
   "execution_count": 4,
   "id": "ba2cad3d-3a0f-47bd-b178-5cc12e7e1039",
   "metadata": {},
   "outputs": [],
   "source": [
    "import pandas as pd\n",
    "import numpy as np\n",
    "import matplotlib.pyplot as plt\n",
    "import seaborn as sns"
   ]
  },
  {
   "cell_type": "code",
   "execution_count": 5,
   "id": "655d313b-6cbe-49ad-b731-9d9031c8f5f2",
   "metadata": {},
   "outputs": [
    {
     "data": {
      "text/plain": [
       "'/Users/oslikdau/Documents/GitHub/important notebooks/House pricing'"
      ]
     },
     "execution_count": 5,
     "metadata": {},
     "output_type": "execute_result"
    }
   ],
   "source": [
    "pwd"
   ]
  },
  {
   "cell_type": "code",
   "execution_count": 6,
   "id": "e5554b48-113d-446a-b8e6-a7dec7bf80e7",
   "metadata": {},
   "outputs": [],
   "source": [
    "train_data=pd.read_csv('house-prices-advanced-regression-techniques/train.csv')\n",
    "test_data=pd.read_csv('house-prices-advanced-regression-techniques/test.csv')"
   ]
  },
  {
   "cell_type": "code",
   "execution_count": 7,
   "id": "178edc24-d2e0-45e2-98d7-e3392306a5f1",
   "metadata": {},
   "outputs": [
    {
     "data": {
      "text/plain": [
       "((1460, 81), (1459, 80))"
      ]
     },
     "execution_count": 7,
     "metadata": {},
     "output_type": "execute_result"
    }
   ],
   "source": [
    "train_data.shape, test_data.shape"
   ]
  },
  {
   "cell_type": "code",
   "execution_count": 8,
   "id": "e5e83e01-9340-4826-8c76-c4191e4938da",
   "metadata": {},
   "outputs": [
    {
     "data": {
      "text/plain": [
       "array([ True,  True,  True,  True,  True,  True,  True,  True,  True,\n",
       "        True,  True,  True,  True,  True,  True,  True,  True,  True,\n",
       "        True,  True,  True,  True,  True,  True,  True,  True,  True,\n",
       "        True,  True,  True,  True,  True,  True,  True,  True,  True,\n",
       "        True,  True,  True,  True,  True,  True,  True,  True,  True,\n",
       "        True,  True,  True,  True,  True,  True,  True,  True,  True,\n",
       "        True,  True,  True,  True,  True,  True,  True,  True,  True,\n",
       "        True,  True,  True,  True,  True,  True,  True,  True,  True,\n",
       "        True,  True,  True,  True,  True,  True,  True,  True])"
      ]
     },
     "execution_count": 8,
     "metadata": {},
     "output_type": "execute_result"
    }
   ],
   "source": [
    "# checking that cols in train and test are the same except last one (target) in train\n",
    "train_data.iloc[:,:-1].columns==test_data.columns"
   ]
  },
  {
   "cell_type": "code",
   "execution_count": 9,
   "id": "7a13f13d-5613-4898-85b7-10c5c53b00ae",
   "metadata": {},
   "outputs": [
    {
     "data": {
      "text/html": [
       "<div>\n",
       "<style scoped>\n",
       "    .dataframe tbody tr th:only-of-type {\n",
       "        vertical-align: middle;\n",
       "    }\n",
       "\n",
       "    .dataframe tbody tr th {\n",
       "        vertical-align: top;\n",
       "    }\n",
       "\n",
       "    .dataframe thead th {\n",
       "        text-align: right;\n",
       "    }\n",
       "</style>\n",
       "<table border=\"1\" class=\"dataframe\">\n",
       "  <thead>\n",
       "    <tr style=\"text-align: right;\">\n",
       "      <th></th>\n",
       "      <th>Id</th>\n",
       "      <th>MSSubClass</th>\n",
       "      <th>MSZoning</th>\n",
       "      <th>LotFrontage</th>\n",
       "      <th>LotArea</th>\n",
       "      <th>Street</th>\n",
       "      <th>Alley</th>\n",
       "      <th>LotShape</th>\n",
       "      <th>LandContour</th>\n",
       "      <th>Utilities</th>\n",
       "      <th>...</th>\n",
       "      <th>PoolArea</th>\n",
       "      <th>PoolQC</th>\n",
       "      <th>Fence</th>\n",
       "      <th>MiscFeature</th>\n",
       "      <th>MiscVal</th>\n",
       "      <th>MoSold</th>\n",
       "      <th>YrSold</th>\n",
       "      <th>SaleType</th>\n",
       "      <th>SaleCondition</th>\n",
       "      <th>SalePrice</th>\n",
       "    </tr>\n",
       "  </thead>\n",
       "  <tbody>\n",
       "    <tr>\n",
       "      <th>0</th>\n",
       "      <td>1</td>\n",
       "      <td>60</td>\n",
       "      <td>RL</td>\n",
       "      <td>65.0</td>\n",
       "      <td>8450</td>\n",
       "      <td>Pave</td>\n",
       "      <td>NaN</td>\n",
       "      <td>Reg</td>\n",
       "      <td>Lvl</td>\n",
       "      <td>AllPub</td>\n",
       "      <td>...</td>\n",
       "      <td>0</td>\n",
       "      <td>NaN</td>\n",
       "      <td>NaN</td>\n",
       "      <td>NaN</td>\n",
       "      <td>0</td>\n",
       "      <td>2</td>\n",
       "      <td>2008</td>\n",
       "      <td>WD</td>\n",
       "      <td>Normal</td>\n",
       "      <td>208500.0</td>\n",
       "    </tr>\n",
       "    <tr>\n",
       "      <th>1</th>\n",
       "      <td>2</td>\n",
       "      <td>20</td>\n",
       "      <td>RL</td>\n",
       "      <td>80.0</td>\n",
       "      <td>9600</td>\n",
       "      <td>Pave</td>\n",
       "      <td>NaN</td>\n",
       "      <td>Reg</td>\n",
       "      <td>Lvl</td>\n",
       "      <td>AllPub</td>\n",
       "      <td>...</td>\n",
       "      <td>0</td>\n",
       "      <td>NaN</td>\n",
       "      <td>NaN</td>\n",
       "      <td>NaN</td>\n",
       "      <td>0</td>\n",
       "      <td>5</td>\n",
       "      <td>2007</td>\n",
       "      <td>WD</td>\n",
       "      <td>Normal</td>\n",
       "      <td>181500.0</td>\n",
       "    </tr>\n",
       "    <tr>\n",
       "      <th>2</th>\n",
       "      <td>3</td>\n",
       "      <td>60</td>\n",
       "      <td>RL</td>\n",
       "      <td>68.0</td>\n",
       "      <td>11250</td>\n",
       "      <td>Pave</td>\n",
       "      <td>NaN</td>\n",
       "      <td>IR1</td>\n",
       "      <td>Lvl</td>\n",
       "      <td>AllPub</td>\n",
       "      <td>...</td>\n",
       "      <td>0</td>\n",
       "      <td>NaN</td>\n",
       "      <td>NaN</td>\n",
       "      <td>NaN</td>\n",
       "      <td>0</td>\n",
       "      <td>9</td>\n",
       "      <td>2008</td>\n",
       "      <td>WD</td>\n",
       "      <td>Normal</td>\n",
       "      <td>223500.0</td>\n",
       "    </tr>\n",
       "    <tr>\n",
       "      <th>3</th>\n",
       "      <td>4</td>\n",
       "      <td>70</td>\n",
       "      <td>RL</td>\n",
       "      <td>60.0</td>\n",
       "      <td>9550</td>\n",
       "      <td>Pave</td>\n",
       "      <td>NaN</td>\n",
       "      <td>IR1</td>\n",
       "      <td>Lvl</td>\n",
       "      <td>AllPub</td>\n",
       "      <td>...</td>\n",
       "      <td>0</td>\n",
       "      <td>NaN</td>\n",
       "      <td>NaN</td>\n",
       "      <td>NaN</td>\n",
       "      <td>0</td>\n",
       "      <td>2</td>\n",
       "      <td>2006</td>\n",
       "      <td>WD</td>\n",
       "      <td>Abnorml</td>\n",
       "      <td>140000.0</td>\n",
       "    </tr>\n",
       "    <tr>\n",
       "      <th>4</th>\n",
       "      <td>5</td>\n",
       "      <td>60</td>\n",
       "      <td>RL</td>\n",
       "      <td>84.0</td>\n",
       "      <td>14260</td>\n",
       "      <td>Pave</td>\n",
       "      <td>NaN</td>\n",
       "      <td>IR1</td>\n",
       "      <td>Lvl</td>\n",
       "      <td>AllPub</td>\n",
       "      <td>...</td>\n",
       "      <td>0</td>\n",
       "      <td>NaN</td>\n",
       "      <td>NaN</td>\n",
       "      <td>NaN</td>\n",
       "      <td>0</td>\n",
       "      <td>12</td>\n",
       "      <td>2008</td>\n",
       "      <td>WD</td>\n",
       "      <td>Normal</td>\n",
       "      <td>250000.0</td>\n",
       "    </tr>\n",
       "    <tr>\n",
       "      <th>...</th>\n",
       "      <td>...</td>\n",
       "      <td>...</td>\n",
       "      <td>...</td>\n",
       "      <td>...</td>\n",
       "      <td>...</td>\n",
       "      <td>...</td>\n",
       "      <td>...</td>\n",
       "      <td>...</td>\n",
       "      <td>...</td>\n",
       "      <td>...</td>\n",
       "      <td>...</td>\n",
       "      <td>...</td>\n",
       "      <td>...</td>\n",
       "      <td>...</td>\n",
       "      <td>...</td>\n",
       "      <td>...</td>\n",
       "      <td>...</td>\n",
       "      <td>...</td>\n",
       "      <td>...</td>\n",
       "      <td>...</td>\n",
       "      <td>...</td>\n",
       "    </tr>\n",
       "    <tr>\n",
       "      <th>1454</th>\n",
       "      <td>2915</td>\n",
       "      <td>160</td>\n",
       "      <td>RM</td>\n",
       "      <td>21.0</td>\n",
       "      <td>1936</td>\n",
       "      <td>Pave</td>\n",
       "      <td>NaN</td>\n",
       "      <td>Reg</td>\n",
       "      <td>Lvl</td>\n",
       "      <td>AllPub</td>\n",
       "      <td>...</td>\n",
       "      <td>0</td>\n",
       "      <td>NaN</td>\n",
       "      <td>NaN</td>\n",
       "      <td>NaN</td>\n",
       "      <td>0</td>\n",
       "      <td>6</td>\n",
       "      <td>2006</td>\n",
       "      <td>WD</td>\n",
       "      <td>Normal</td>\n",
       "      <td>NaN</td>\n",
       "    </tr>\n",
       "    <tr>\n",
       "      <th>1455</th>\n",
       "      <td>2916</td>\n",
       "      <td>160</td>\n",
       "      <td>RM</td>\n",
       "      <td>21.0</td>\n",
       "      <td>1894</td>\n",
       "      <td>Pave</td>\n",
       "      <td>NaN</td>\n",
       "      <td>Reg</td>\n",
       "      <td>Lvl</td>\n",
       "      <td>AllPub</td>\n",
       "      <td>...</td>\n",
       "      <td>0</td>\n",
       "      <td>NaN</td>\n",
       "      <td>NaN</td>\n",
       "      <td>NaN</td>\n",
       "      <td>0</td>\n",
       "      <td>4</td>\n",
       "      <td>2006</td>\n",
       "      <td>WD</td>\n",
       "      <td>Abnorml</td>\n",
       "      <td>NaN</td>\n",
       "    </tr>\n",
       "    <tr>\n",
       "      <th>1456</th>\n",
       "      <td>2917</td>\n",
       "      <td>20</td>\n",
       "      <td>RL</td>\n",
       "      <td>160.0</td>\n",
       "      <td>20000</td>\n",
       "      <td>Pave</td>\n",
       "      <td>NaN</td>\n",
       "      <td>Reg</td>\n",
       "      <td>Lvl</td>\n",
       "      <td>AllPub</td>\n",
       "      <td>...</td>\n",
       "      <td>0</td>\n",
       "      <td>NaN</td>\n",
       "      <td>NaN</td>\n",
       "      <td>NaN</td>\n",
       "      <td>0</td>\n",
       "      <td>9</td>\n",
       "      <td>2006</td>\n",
       "      <td>WD</td>\n",
       "      <td>Abnorml</td>\n",
       "      <td>NaN</td>\n",
       "    </tr>\n",
       "    <tr>\n",
       "      <th>1457</th>\n",
       "      <td>2918</td>\n",
       "      <td>85</td>\n",
       "      <td>RL</td>\n",
       "      <td>62.0</td>\n",
       "      <td>10441</td>\n",
       "      <td>Pave</td>\n",
       "      <td>NaN</td>\n",
       "      <td>Reg</td>\n",
       "      <td>Lvl</td>\n",
       "      <td>AllPub</td>\n",
       "      <td>...</td>\n",
       "      <td>0</td>\n",
       "      <td>NaN</td>\n",
       "      <td>MnPrv</td>\n",
       "      <td>Shed</td>\n",
       "      <td>700</td>\n",
       "      <td>7</td>\n",
       "      <td>2006</td>\n",
       "      <td>WD</td>\n",
       "      <td>Normal</td>\n",
       "      <td>NaN</td>\n",
       "    </tr>\n",
       "    <tr>\n",
       "      <th>1458</th>\n",
       "      <td>2919</td>\n",
       "      <td>60</td>\n",
       "      <td>RL</td>\n",
       "      <td>74.0</td>\n",
       "      <td>9627</td>\n",
       "      <td>Pave</td>\n",
       "      <td>NaN</td>\n",
       "      <td>Reg</td>\n",
       "      <td>Lvl</td>\n",
       "      <td>AllPub</td>\n",
       "      <td>...</td>\n",
       "      <td>0</td>\n",
       "      <td>NaN</td>\n",
       "      <td>NaN</td>\n",
       "      <td>NaN</td>\n",
       "      <td>0</td>\n",
       "      <td>11</td>\n",
       "      <td>2006</td>\n",
       "      <td>WD</td>\n",
       "      <td>Normal</td>\n",
       "      <td>NaN</td>\n",
       "    </tr>\n",
       "  </tbody>\n",
       "</table>\n",
       "<p>2919 rows × 81 columns</p>\n",
       "</div>"
      ],
      "text/plain": [
       "        Id  MSSubClass MSZoning  LotFrontage  LotArea Street Alley LotShape  \\\n",
       "0        1          60       RL         65.0     8450   Pave   NaN      Reg   \n",
       "1        2          20       RL         80.0     9600   Pave   NaN      Reg   \n",
       "2        3          60       RL         68.0    11250   Pave   NaN      IR1   \n",
       "3        4          70       RL         60.0     9550   Pave   NaN      IR1   \n",
       "4        5          60       RL         84.0    14260   Pave   NaN      IR1   \n",
       "...    ...         ...      ...          ...      ...    ...   ...      ...   \n",
       "1454  2915         160       RM         21.0     1936   Pave   NaN      Reg   \n",
       "1455  2916         160       RM         21.0     1894   Pave   NaN      Reg   \n",
       "1456  2917          20       RL        160.0    20000   Pave   NaN      Reg   \n",
       "1457  2918          85       RL         62.0    10441   Pave   NaN      Reg   \n",
       "1458  2919          60       RL         74.0     9627   Pave   NaN      Reg   \n",
       "\n",
       "     LandContour Utilities  ... PoolArea PoolQC  Fence MiscFeature MiscVal  \\\n",
       "0            Lvl    AllPub  ...        0    NaN    NaN         NaN       0   \n",
       "1            Lvl    AllPub  ...        0    NaN    NaN         NaN       0   \n",
       "2            Lvl    AllPub  ...        0    NaN    NaN         NaN       0   \n",
       "3            Lvl    AllPub  ...        0    NaN    NaN         NaN       0   \n",
       "4            Lvl    AllPub  ...        0    NaN    NaN         NaN       0   \n",
       "...          ...       ...  ...      ...    ...    ...         ...     ...   \n",
       "1454         Lvl    AllPub  ...        0    NaN    NaN         NaN       0   \n",
       "1455         Lvl    AllPub  ...        0    NaN    NaN         NaN       0   \n",
       "1456         Lvl    AllPub  ...        0    NaN    NaN         NaN       0   \n",
       "1457         Lvl    AllPub  ...        0    NaN  MnPrv        Shed     700   \n",
       "1458         Lvl    AllPub  ...        0    NaN    NaN         NaN       0   \n",
       "\n",
       "     MoSold YrSold  SaleType  SaleCondition  SalePrice  \n",
       "0         2   2008        WD         Normal   208500.0  \n",
       "1         5   2007        WD         Normal   181500.0  \n",
       "2         9   2008        WD         Normal   223500.0  \n",
       "3         2   2006        WD        Abnorml   140000.0  \n",
       "4        12   2008        WD         Normal   250000.0  \n",
       "...     ...    ...       ...            ...        ...  \n",
       "1454      6   2006        WD         Normal        NaN  \n",
       "1455      4   2006        WD        Abnorml        NaN  \n",
       "1456      9   2006        WD        Abnorml        NaN  \n",
       "1457      7   2006        WD         Normal        NaN  \n",
       "1458     11   2006        WD         Normal        NaN  \n",
       "\n",
       "[2919 rows x 81 columns]"
      ]
     },
     "execution_count": 9,
     "metadata": {},
     "output_type": "execute_result"
    }
   ],
   "source": [
    "# combine into 1 dataset so that all data processing done in both sets\n",
    "all_data=pd.concat([train_data,test_data])\n",
    "all_data"
   ]
  },
  {
   "cell_type": "code",
   "execution_count": 10,
   "id": "4e6a65b6-726b-489e-a6d6-381c20a5e0bb",
   "metadata": {},
   "outputs": [
    {
     "name": "stderr",
     "output_type": "stream",
     "text": [
      "/Users/oslikdau/miniforge3/envs/tensorflow/lib/python3.8/site-packages/pandas/core/indexing.py:1732: SettingWithCopyWarning: \n",
      "A value is trying to be set on a copy of a slice from a DataFrame\n",
      "\n",
      "See the caveats in the documentation: https://pandas.pydata.org/pandas-docs/stable/user_guide/indexing.html#returning-a-view-versus-a-copy\n",
      "  self._setitem_single_block(indexer, value, name)\n"
     ]
    },
    {
     "data": {
      "text/plain": [
       "1    1460\n",
       "0    1459\n",
       "Name: Train Dataset, dtype: int64"
      ]
     },
     "execution_count": 10,
     "metadata": {},
     "output_type": "execute_result"
    }
   ],
   "source": [
    "# new var to split train & test\n",
    "all_data['Train Dataset'] = 1\n",
    "all_data['Train Dataset'].loc[all_data['SalePrice'].isna()] = 0\n",
    "all_data['Train Dataset'].value_counts()"
   ]
  },
  {
   "cell_type": "code",
   "execution_count": 11,
   "id": "ef0beefa-3d40-4e08-b029-3076cd385ecd",
   "metadata": {},
   "outputs": [],
   "source": [
    "# keep origin just in case\n",
    "all_data_origin=all_data.copy()"
   ]
  },
  {
   "cell_type": "markdown",
   "id": "40da63da",
   "metadata": {},
   "source": [
    "## Data analysis"
   ]
  },
  {
   "cell_type": "code",
   "execution_count": 12,
   "id": "fb27af3b-f615-4ed9-901d-e631604dcb81",
   "metadata": {},
   "outputs": [
    {
     "data": {
      "text/plain": [
       "PoolQC          2909\n",
       "MiscFeature     2814\n",
       "Alley           2721\n",
       "Fence           2348\n",
       "SalePrice       1459\n",
       "FireplaceQu     1420\n",
       "LotFrontage      486\n",
       "GarageYrBlt      159\n",
       "GarageQual       159\n",
       "GarageFinish     159\n",
       "GarageCond       159\n",
       "GarageType       157\n",
       "BsmtCond          82\n",
       "BsmtExposure      82\n",
       "BsmtQual          81\n",
       "BsmtFinType2      80\n",
       "BsmtFinType1      79\n",
       "MasVnrType        24\n",
       "MasVnrArea        23\n",
       "MSZoning           4\n",
       "Functional         2\n",
       "BsmtFullBath       2\n",
       "Utilities          2\n",
       "BsmtHalfBath       2\n",
       "BsmtFinSF1         1\n",
       "GarageCars         1\n",
       "GarageArea         1\n",
       "Electrical         1\n",
       "TotalBsmtSF        1\n",
       "Exterior2nd        1\n",
       "dtype: int64"
      ]
     },
     "execution_count": 12,
     "metadata": {},
     "output_type": "execute_result"
    }
   ],
   "source": [
    "all_data.isnull().sum().sort_values(ascending=False).head(30)"
   ]
  },
  {
   "cell_type": "code",
   "execution_count": 13,
   "id": "dfc4dec8",
   "metadata": {},
   "outputs": [
    {
     "data": {
      "text/plain": [
       "MnPrv    329\n",
       "GdPrv    118\n",
       "GdWo     112\n",
       "MnWw      12\n",
       "Name: Fence, dtype: int64"
      ]
     },
     "execution_count": 13,
     "metadata": {},
     "output_type": "execute_result"
    }
   ],
   "source": [
    "all_data['Fence'].value_counts()"
   ]
  },
  {
   "cell_type": "code",
   "execution_count": 14,
   "id": "80203f30-b025-410e-8d3a-d7bfd76db544",
   "metadata": {},
   "outputs": [],
   "source": [
    "var_corr_price = all_data.corr()['SalePrice'].sort_values(ascending=False)"
   ]
  },
  {
   "cell_type": "code",
   "execution_count": 15,
   "id": "e0ac3861",
   "metadata": {},
   "outputs": [
    {
     "data": {
      "text/plain": [
       "PoolArea        0.092404\n",
       "MoSold          0.046432\n",
       "3SsnPorch       0.044584\n",
       "BsmtFinSF2     -0.011378\n",
       "BsmtHalfBath   -0.016844\n",
       "MiscVal        -0.021190\n",
       "Id             -0.021917\n",
       "LowQualFinSF   -0.025606\n",
       "YrSold         -0.028923\n",
       "OverallCond    -0.077856\n",
       "MSSubClass     -0.084284\n",
       "Name: SalePrice, dtype: float64"
      ]
     },
     "execution_count": 15,
     "metadata": {},
     "output_type": "execute_result"
    }
   ],
   "source": [
    "# only numeric var's do not correlate well w/Price. \n",
    "# MSSubClass, OverallCond - should be categorical\n",
    "# YrSold - into Age\n",
    "# MoSold, 3SsnPorch, MiscVal, Id - irrelevant\n",
    "var_corr_price[var_corr_price.between(-0.1, 0.1)]"
   ]
  },
  {
   "cell_type": "code",
   "execution_count": 16,
   "id": "ad3eddbd",
   "metadata": {},
   "outputs": [
    {
     "data": {
      "text/plain": [
       "Neighborhood     25\n",
       "Exterior2nd      16\n",
       "Exterior1st      15\n",
       "SaleType          9\n",
       "Condition1        9\n",
       "Condition2        8\n",
       "HouseStyle        8\n",
       "RoofMatl          8\n",
       "Functional        7\n",
       "BsmtFinType2      6\n",
       "Heating           6\n",
       "RoofStyle         6\n",
       "SaleCondition     6\n",
       "BsmtFinType1      6\n",
       "GarageType        6\n",
       "Foundation        6\n",
       "Electrical        5\n",
       "FireplaceQu       5\n",
       "HeatingQC         5\n",
       "GarageQual        5\n",
       "dtype: int64"
      ]
     },
     "execution_count": 16,
     "metadata": {},
     "output_type": "execute_result"
    }
   ],
   "source": [
    "# how many classes. \n",
    "# \n",
    "all_data.select_dtypes('object').nunique().sort_values(ascending=False).head(20)"
   ]
  },
  {
   "cell_type": "code",
   "execution_count": 17,
   "id": "7f6fe3a2",
   "metadata": {},
   "outputs": [
    {
     "data": {
      "text/html": [
       "<div>\n",
       "<style scoped>\n",
       "    .dataframe tbody tr th:only-of-type {\n",
       "        vertical-align: middle;\n",
       "    }\n",
       "\n",
       "    .dataframe tbody tr th {\n",
       "        vertical-align: top;\n",
       "    }\n",
       "\n",
       "    .dataframe thead th {\n",
       "        text-align: right;\n",
       "    }\n",
       "</style>\n",
       "<table border=\"1\" class=\"dataframe\">\n",
       "  <thead>\n",
       "    <tr style=\"text-align: right;\">\n",
       "      <th></th>\n",
       "      <th>MSZoning</th>\n",
       "      <th>Street</th>\n",
       "      <th>Alley</th>\n",
       "      <th>LotShape</th>\n",
       "      <th>LandContour</th>\n",
       "      <th>Utilities</th>\n",
       "      <th>LotConfig</th>\n",
       "      <th>LandSlope</th>\n",
       "      <th>Neighborhood</th>\n",
       "      <th>Condition1</th>\n",
       "      <th>...</th>\n",
       "      <th>GarageType</th>\n",
       "      <th>GarageFinish</th>\n",
       "      <th>GarageQual</th>\n",
       "      <th>GarageCond</th>\n",
       "      <th>PavedDrive</th>\n",
       "      <th>PoolQC</th>\n",
       "      <th>Fence</th>\n",
       "      <th>MiscFeature</th>\n",
       "      <th>SaleType</th>\n",
       "      <th>SaleCondition</th>\n",
       "    </tr>\n",
       "  </thead>\n",
       "  <tbody>\n",
       "    <tr>\n",
       "      <th>0</th>\n",
       "      <td>RL</td>\n",
       "      <td>Pave</td>\n",
       "      <td>NaN</td>\n",
       "      <td>Reg</td>\n",
       "      <td>Lvl</td>\n",
       "      <td>AllPub</td>\n",
       "      <td>Inside</td>\n",
       "      <td>Gtl</td>\n",
       "      <td>CollgCr</td>\n",
       "      <td>Norm</td>\n",
       "      <td>...</td>\n",
       "      <td>Attchd</td>\n",
       "      <td>RFn</td>\n",
       "      <td>TA</td>\n",
       "      <td>TA</td>\n",
       "      <td>Y</td>\n",
       "      <td>NaN</td>\n",
       "      <td>NaN</td>\n",
       "      <td>NaN</td>\n",
       "      <td>WD</td>\n",
       "      <td>Normal</td>\n",
       "    </tr>\n",
       "    <tr>\n",
       "      <th>1</th>\n",
       "      <td>RL</td>\n",
       "      <td>Pave</td>\n",
       "      <td>NaN</td>\n",
       "      <td>Reg</td>\n",
       "      <td>Lvl</td>\n",
       "      <td>AllPub</td>\n",
       "      <td>FR2</td>\n",
       "      <td>Gtl</td>\n",
       "      <td>Veenker</td>\n",
       "      <td>Feedr</td>\n",
       "      <td>...</td>\n",
       "      <td>Attchd</td>\n",
       "      <td>RFn</td>\n",
       "      <td>TA</td>\n",
       "      <td>TA</td>\n",
       "      <td>Y</td>\n",
       "      <td>NaN</td>\n",
       "      <td>NaN</td>\n",
       "      <td>NaN</td>\n",
       "      <td>WD</td>\n",
       "      <td>Normal</td>\n",
       "    </tr>\n",
       "    <tr>\n",
       "      <th>2</th>\n",
       "      <td>RL</td>\n",
       "      <td>Pave</td>\n",
       "      <td>NaN</td>\n",
       "      <td>IR1</td>\n",
       "      <td>Lvl</td>\n",
       "      <td>AllPub</td>\n",
       "      <td>Inside</td>\n",
       "      <td>Gtl</td>\n",
       "      <td>CollgCr</td>\n",
       "      <td>Norm</td>\n",
       "      <td>...</td>\n",
       "      <td>Attchd</td>\n",
       "      <td>RFn</td>\n",
       "      <td>TA</td>\n",
       "      <td>TA</td>\n",
       "      <td>Y</td>\n",
       "      <td>NaN</td>\n",
       "      <td>NaN</td>\n",
       "      <td>NaN</td>\n",
       "      <td>WD</td>\n",
       "      <td>Normal</td>\n",
       "    </tr>\n",
       "    <tr>\n",
       "      <th>3</th>\n",
       "      <td>RL</td>\n",
       "      <td>Pave</td>\n",
       "      <td>NaN</td>\n",
       "      <td>IR1</td>\n",
       "      <td>Lvl</td>\n",
       "      <td>AllPub</td>\n",
       "      <td>Corner</td>\n",
       "      <td>Gtl</td>\n",
       "      <td>Crawfor</td>\n",
       "      <td>Norm</td>\n",
       "      <td>...</td>\n",
       "      <td>Detchd</td>\n",
       "      <td>Unf</td>\n",
       "      <td>TA</td>\n",
       "      <td>TA</td>\n",
       "      <td>Y</td>\n",
       "      <td>NaN</td>\n",
       "      <td>NaN</td>\n",
       "      <td>NaN</td>\n",
       "      <td>WD</td>\n",
       "      <td>Abnorml</td>\n",
       "    </tr>\n",
       "    <tr>\n",
       "      <th>4</th>\n",
       "      <td>RL</td>\n",
       "      <td>Pave</td>\n",
       "      <td>NaN</td>\n",
       "      <td>IR1</td>\n",
       "      <td>Lvl</td>\n",
       "      <td>AllPub</td>\n",
       "      <td>FR2</td>\n",
       "      <td>Gtl</td>\n",
       "      <td>NoRidge</td>\n",
       "      <td>Norm</td>\n",
       "      <td>...</td>\n",
       "      <td>Attchd</td>\n",
       "      <td>RFn</td>\n",
       "      <td>TA</td>\n",
       "      <td>TA</td>\n",
       "      <td>Y</td>\n",
       "      <td>NaN</td>\n",
       "      <td>NaN</td>\n",
       "      <td>NaN</td>\n",
       "      <td>WD</td>\n",
       "      <td>Normal</td>\n",
       "    </tr>\n",
       "    <tr>\n",
       "      <th>...</th>\n",
       "      <td>...</td>\n",
       "      <td>...</td>\n",
       "      <td>...</td>\n",
       "      <td>...</td>\n",
       "      <td>...</td>\n",
       "      <td>...</td>\n",
       "      <td>...</td>\n",
       "      <td>...</td>\n",
       "      <td>...</td>\n",
       "      <td>...</td>\n",
       "      <td>...</td>\n",
       "      <td>...</td>\n",
       "      <td>...</td>\n",
       "      <td>...</td>\n",
       "      <td>...</td>\n",
       "      <td>...</td>\n",
       "      <td>...</td>\n",
       "      <td>...</td>\n",
       "      <td>...</td>\n",
       "      <td>...</td>\n",
       "      <td>...</td>\n",
       "    </tr>\n",
       "    <tr>\n",
       "      <th>1454</th>\n",
       "      <td>RM</td>\n",
       "      <td>Pave</td>\n",
       "      <td>NaN</td>\n",
       "      <td>Reg</td>\n",
       "      <td>Lvl</td>\n",
       "      <td>AllPub</td>\n",
       "      <td>Inside</td>\n",
       "      <td>Gtl</td>\n",
       "      <td>MeadowV</td>\n",
       "      <td>Norm</td>\n",
       "      <td>...</td>\n",
       "      <td>NaN</td>\n",
       "      <td>NaN</td>\n",
       "      <td>NaN</td>\n",
       "      <td>NaN</td>\n",
       "      <td>Y</td>\n",
       "      <td>NaN</td>\n",
       "      <td>NaN</td>\n",
       "      <td>NaN</td>\n",
       "      <td>WD</td>\n",
       "      <td>Normal</td>\n",
       "    </tr>\n",
       "    <tr>\n",
       "      <th>1455</th>\n",
       "      <td>RM</td>\n",
       "      <td>Pave</td>\n",
       "      <td>NaN</td>\n",
       "      <td>Reg</td>\n",
       "      <td>Lvl</td>\n",
       "      <td>AllPub</td>\n",
       "      <td>Inside</td>\n",
       "      <td>Gtl</td>\n",
       "      <td>MeadowV</td>\n",
       "      <td>Norm</td>\n",
       "      <td>...</td>\n",
       "      <td>CarPort</td>\n",
       "      <td>Unf</td>\n",
       "      <td>TA</td>\n",
       "      <td>TA</td>\n",
       "      <td>Y</td>\n",
       "      <td>NaN</td>\n",
       "      <td>NaN</td>\n",
       "      <td>NaN</td>\n",
       "      <td>WD</td>\n",
       "      <td>Abnorml</td>\n",
       "    </tr>\n",
       "    <tr>\n",
       "      <th>1456</th>\n",
       "      <td>RL</td>\n",
       "      <td>Pave</td>\n",
       "      <td>NaN</td>\n",
       "      <td>Reg</td>\n",
       "      <td>Lvl</td>\n",
       "      <td>AllPub</td>\n",
       "      <td>Inside</td>\n",
       "      <td>Gtl</td>\n",
       "      <td>Mitchel</td>\n",
       "      <td>Norm</td>\n",
       "      <td>...</td>\n",
       "      <td>Detchd</td>\n",
       "      <td>Unf</td>\n",
       "      <td>TA</td>\n",
       "      <td>TA</td>\n",
       "      <td>Y</td>\n",
       "      <td>NaN</td>\n",
       "      <td>NaN</td>\n",
       "      <td>NaN</td>\n",
       "      <td>WD</td>\n",
       "      <td>Abnorml</td>\n",
       "    </tr>\n",
       "    <tr>\n",
       "      <th>1457</th>\n",
       "      <td>RL</td>\n",
       "      <td>Pave</td>\n",
       "      <td>NaN</td>\n",
       "      <td>Reg</td>\n",
       "      <td>Lvl</td>\n",
       "      <td>AllPub</td>\n",
       "      <td>Inside</td>\n",
       "      <td>Gtl</td>\n",
       "      <td>Mitchel</td>\n",
       "      <td>Norm</td>\n",
       "      <td>...</td>\n",
       "      <td>NaN</td>\n",
       "      <td>NaN</td>\n",
       "      <td>NaN</td>\n",
       "      <td>NaN</td>\n",
       "      <td>Y</td>\n",
       "      <td>NaN</td>\n",
       "      <td>MnPrv</td>\n",
       "      <td>Shed</td>\n",
       "      <td>WD</td>\n",
       "      <td>Normal</td>\n",
       "    </tr>\n",
       "    <tr>\n",
       "      <th>1458</th>\n",
       "      <td>RL</td>\n",
       "      <td>Pave</td>\n",
       "      <td>NaN</td>\n",
       "      <td>Reg</td>\n",
       "      <td>Lvl</td>\n",
       "      <td>AllPub</td>\n",
       "      <td>Inside</td>\n",
       "      <td>Mod</td>\n",
       "      <td>Mitchel</td>\n",
       "      <td>Norm</td>\n",
       "      <td>...</td>\n",
       "      <td>Attchd</td>\n",
       "      <td>Fin</td>\n",
       "      <td>TA</td>\n",
       "      <td>TA</td>\n",
       "      <td>Y</td>\n",
       "      <td>NaN</td>\n",
       "      <td>NaN</td>\n",
       "      <td>NaN</td>\n",
       "      <td>WD</td>\n",
       "      <td>Normal</td>\n",
       "    </tr>\n",
       "  </tbody>\n",
       "</table>\n",
       "<p>2919 rows × 43 columns</p>\n",
       "</div>"
      ],
      "text/plain": [
       "     MSZoning Street Alley LotShape LandContour Utilities LotConfig LandSlope  \\\n",
       "0          RL   Pave   NaN      Reg         Lvl    AllPub    Inside       Gtl   \n",
       "1          RL   Pave   NaN      Reg         Lvl    AllPub       FR2       Gtl   \n",
       "2          RL   Pave   NaN      IR1         Lvl    AllPub    Inside       Gtl   \n",
       "3          RL   Pave   NaN      IR1         Lvl    AllPub    Corner       Gtl   \n",
       "4          RL   Pave   NaN      IR1         Lvl    AllPub       FR2       Gtl   \n",
       "...       ...    ...   ...      ...         ...       ...       ...       ...   \n",
       "1454       RM   Pave   NaN      Reg         Lvl    AllPub    Inside       Gtl   \n",
       "1455       RM   Pave   NaN      Reg         Lvl    AllPub    Inside       Gtl   \n",
       "1456       RL   Pave   NaN      Reg         Lvl    AllPub    Inside       Gtl   \n",
       "1457       RL   Pave   NaN      Reg         Lvl    AllPub    Inside       Gtl   \n",
       "1458       RL   Pave   NaN      Reg         Lvl    AllPub    Inside       Mod   \n",
       "\n",
       "     Neighborhood Condition1  ... GarageType GarageFinish GarageQual  \\\n",
       "0         CollgCr       Norm  ...     Attchd          RFn         TA   \n",
       "1         Veenker      Feedr  ...     Attchd          RFn         TA   \n",
       "2         CollgCr       Norm  ...     Attchd          RFn         TA   \n",
       "3         Crawfor       Norm  ...     Detchd          Unf         TA   \n",
       "4         NoRidge       Norm  ...     Attchd          RFn         TA   \n",
       "...           ...        ...  ...        ...          ...        ...   \n",
       "1454      MeadowV       Norm  ...        NaN          NaN        NaN   \n",
       "1455      MeadowV       Norm  ...    CarPort          Unf         TA   \n",
       "1456      Mitchel       Norm  ...     Detchd          Unf         TA   \n",
       "1457      Mitchel       Norm  ...        NaN          NaN        NaN   \n",
       "1458      Mitchel       Norm  ...     Attchd          Fin         TA   \n",
       "\n",
       "     GarageCond PavedDrive PoolQC  Fence MiscFeature SaleType SaleCondition  \n",
       "0            TA          Y    NaN    NaN         NaN       WD        Normal  \n",
       "1            TA          Y    NaN    NaN         NaN       WD        Normal  \n",
       "2            TA          Y    NaN    NaN         NaN       WD        Normal  \n",
       "3            TA          Y    NaN    NaN         NaN       WD       Abnorml  \n",
       "4            TA          Y    NaN    NaN         NaN       WD        Normal  \n",
       "...         ...        ...    ...    ...         ...      ...           ...  \n",
       "1454        NaN          Y    NaN    NaN         NaN       WD        Normal  \n",
       "1455         TA          Y    NaN    NaN         NaN       WD       Abnorml  \n",
       "1456         TA          Y    NaN    NaN         NaN       WD       Abnorml  \n",
       "1457        NaN          Y    NaN  MnPrv        Shed       WD        Normal  \n",
       "1458         TA          Y    NaN    NaN         NaN       WD        Normal  \n",
       "\n",
       "[2919 rows x 43 columns]"
      ]
     },
     "execution_count": 17,
     "metadata": {},
     "output_type": "execute_result"
    }
   ],
   "source": [
    "# cross cat var's vs Price - correlation?\n",
    "all_data.select_dtypes('object')"
   ]
  },
  {
   "cell_type": "code",
   "execution_count": 18,
   "id": "ddac5355-877e-4b5e-b28f-96f5bc549472",
   "metadata": {},
   "outputs": [
    {
     "data": {
      "text/plain": [
       "PoolArea         0.995546\n",
       "3SsnPorch        0.987324\n",
       "LowQualFinSF     0.986297\n",
       "MiscVal          0.964714\n",
       "BsmtHalfBath     0.939363\n",
       "ScreenPorch      0.912299\n",
       "BsmtFinSF2       0.880781\n",
       "EnclosedPorch    0.842754\n",
       "HalfBath         0.628297\n",
       "MasVnrArea       0.595409\n",
       "BsmtFullBath     0.584104\n",
       "2ndFlrSF         0.571429\n",
       "WoodDeckSF       0.521754\n",
       "Train Dataset    0.499829\n",
       "Fireplaces       0.486468\n",
       "OpenPorchSF      0.444673\n",
       "BsmtFinSF1       0.318260\n",
       "BsmtUnfSF        0.082563\n",
       "GarageCars       0.053786\n",
       "GarageArea       0.053786\n",
       "dtype: float64"
      ]
     },
     "execution_count": 18,
     "metadata": {},
     "output_type": "execute_result"
    }
   ],
   "source": [
    "# share of zeros\n",
    "# PoolArea 3SsnPorch LowQualFinSF MiscVal BsmtHalfBath - remove\n",
    "(all_data[all_data == 0].count(axis=0)/len(all_data.index)).sort_values(ascending=False).head(20)"
   ]
  },
  {
   "cell_type": "markdown",
   "id": "4bac9e1d-3b16-4e98-bc6f-a378f0a969b9",
   "metadata": {},
   "source": [
    "## data prep"
   ]
  },
  {
   "cell_type": "code",
   "execution_count": 19,
   "id": "ee6227c9-6cd3-4ed9-a1c8-acf0f9eaf64a",
   "metadata": {},
   "outputs": [],
   "source": [
    "# convert 'num' into cat\n",
    "num_cat_var = ['MSSubClass',\n",
    "'OverallQual',\n",
    "'OverallCond']\n",
    "all_data[num_cat_var] = all_data[num_cat_var].astype('category')"
   ]
  },
  {
   "cell_type": "code",
   "execution_count": 20,
   "id": "5e19b5f2",
   "metadata": {},
   "outputs": [],
   "source": [
    "# remove :\n",
    "# almost all zeros - PoolArea 3SsnPorch LowQualFinSF MiscVal BsmtHalfBath\n",
    "# irrelevant (no correl) - MoSold, 3SsnPorch, MiscVal, Id \n",
    "var_remove = [\n",
    "    'Id',\n",
    "    'MiscVal',\n",
    "    'MoSold',\n",
    "    'PoolArea', \n",
    "    '3SsnPorch', \n",
    "    'LowQualFinSF', \n",
    "    'MiscVal', \n",
    "    'BsmtHalfBath',\n",
    "    'Alley',\n",
    "    'Utilities',\n",
    "    'PoolQC',\n",
    "    'MiscFeature']\n",
    "all_data.drop(var_remove, axis=1, inplace=True)"
   ]
  },
  {
   "cell_type": "markdown",
   "id": "f600189d-5086-41a5-8beb-81905ba628ce",
   "metadata": {},
   "source": [
    "#### Years to Age"
   ]
  },
  {
   "cell_type": "code",
   "execution_count": 21,
   "id": "d8d4da2b-fbc8-4395-88ce-a23771884ac5",
   "metadata": {},
   "outputs": [],
   "source": [
    "# transform to age\n",
    "pd.set_option(\"max_rows\", 10)\n",
    "all_data['YearBuilt']=2011-all_data['YearBuilt']\n",
    "all_data['YearRemodAdd']=2011-all_data['YearRemodAdd']\n",
    "all_data['GarageYrBlt']=2011-all_data['GarageYrBlt']\n",
    "all_data['YrSold']=2011-all_data['YrSold']"
   ]
  },
  {
   "cell_type": "code",
   "execution_count": 22,
   "id": "a8527b5a-f586-463b-a9d3-9cf1400bd13f",
   "metadata": {},
   "outputs": [
    {
     "data": {
      "text/html": [
       "<div>\n",
       "<style scoped>\n",
       "    .dataframe tbody tr th:only-of-type {\n",
       "        vertical-align: middle;\n",
       "    }\n",
       "\n",
       "    .dataframe tbody tr th {\n",
       "        vertical-align: top;\n",
       "    }\n",
       "\n",
       "    .dataframe thead th {\n",
       "        text-align: right;\n",
       "    }\n",
       "</style>\n",
       "<table border=\"1\" class=\"dataframe\">\n",
       "  <thead>\n",
       "    <tr style=\"text-align: right;\">\n",
       "      <th></th>\n",
       "      <th>YearBuilt</th>\n",
       "      <th>YearRemodAdd</th>\n",
       "      <th>GarageYrBlt</th>\n",
       "      <th>YrSold</th>\n",
       "    </tr>\n",
       "  </thead>\n",
       "  <tbody>\n",
       "    <tr>\n",
       "      <th>count</th>\n",
       "      <td>2919.000000</td>\n",
       "      <td>2919.000000</td>\n",
       "      <td>2760.000000</td>\n",
       "      <td>2919.000000</td>\n",
       "    </tr>\n",
       "    <tr>\n",
       "      <th>mean</th>\n",
       "      <td>39.687222</td>\n",
       "      <td>26.735526</td>\n",
       "      <td>32.886594</td>\n",
       "      <td>3.207263</td>\n",
       "    </tr>\n",
       "    <tr>\n",
       "      <th>std</th>\n",
       "      <td>30.291442</td>\n",
       "      <td>20.894344</td>\n",
       "      <td>25.574285</td>\n",
       "      <td>1.314964</td>\n",
       "    </tr>\n",
       "    <tr>\n",
       "      <th>min</th>\n",
       "      <td>1.000000</td>\n",
       "      <td>1.000000</td>\n",
       "      <td>-196.000000</td>\n",
       "      <td>1.000000</td>\n",
       "    </tr>\n",
       "    <tr>\n",
       "      <th>25%</th>\n",
       "      <td>10.000000</td>\n",
       "      <td>7.000000</td>\n",
       "      <td>9.000000</td>\n",
       "      <td>2.000000</td>\n",
       "    </tr>\n",
       "    <tr>\n",
       "      <th>50%</th>\n",
       "      <td>38.000000</td>\n",
       "      <td>18.000000</td>\n",
       "      <td>32.000000</td>\n",
       "      <td>3.000000</td>\n",
       "    </tr>\n",
       "    <tr>\n",
       "      <th>75%</th>\n",
       "      <td>57.500000</td>\n",
       "      <td>46.000000</td>\n",
       "      <td>51.000000</td>\n",
       "      <td>4.000000</td>\n",
       "    </tr>\n",
       "    <tr>\n",
       "      <th>max</th>\n",
       "      <td>139.000000</td>\n",
       "      <td>61.000000</td>\n",
       "      <td>116.000000</td>\n",
       "      <td>5.000000</td>\n",
       "    </tr>\n",
       "  </tbody>\n",
       "</table>\n",
       "</div>"
      ],
      "text/plain": [
       "         YearBuilt  YearRemodAdd  GarageYrBlt       YrSold\n",
       "count  2919.000000   2919.000000  2760.000000  2919.000000\n",
       "mean     39.687222     26.735526    32.886594     3.207263\n",
       "std      30.291442     20.894344    25.574285     1.314964\n",
       "min       1.000000      1.000000  -196.000000     1.000000\n",
       "25%      10.000000      7.000000     9.000000     2.000000\n",
       "50%      38.000000     18.000000    32.000000     3.000000\n",
       "75%      57.500000     46.000000    51.000000     4.000000\n",
       "max     139.000000     61.000000   116.000000     5.000000"
      ]
     },
     "execution_count": 22,
     "metadata": {},
     "output_type": "execute_result"
    }
   ],
   "source": [
    "#check age transformation\n",
    "all_data[\n",
    "['YearBuilt', \n",
    "'YearRemodAdd',\n",
    "'GarageYrBlt',\n",
    "'YrSold']\n",
    "].describe()"
   ]
  },
  {
   "cell_type": "code",
   "execution_count": 23,
   "id": "e45bd1ee-2134-4958-98c5-66261ad1dc04",
   "metadata": {},
   "outputs": [],
   "source": [
    "all_data['GarageYrBlt'].replace(-196, 4, inplace=True)"
   ]
  },
  {
   "cell_type": "markdown",
   "id": "279a5787-038a-4696-b086-9873c48fa9cb",
   "metadata": {},
   "source": [
    "### transform integer into binary"
   ]
  },
  {
   "cell_type": "code",
   "execution_count": 24,
   "id": "eaaf8289-a71f-4615-91c2-b9953aba48f1",
   "metadata": {},
   "outputs": [
    {
     "data": {
      "text/html": [
       "<div>\n",
       "<style scoped>\n",
       "    .dataframe tbody tr th:only-of-type {\n",
       "        vertical-align: middle;\n",
       "    }\n",
       "\n",
       "    .dataframe tbody tr th {\n",
       "        vertical-align: top;\n",
       "    }\n",
       "\n",
       "    .dataframe thead th {\n",
       "        text-align: right;\n",
       "    }\n",
       "</style>\n",
       "<table border=\"1\" class=\"dataframe\">\n",
       "  <thead>\n",
       "    <tr style=\"text-align: right;\">\n",
       "      <th></th>\n",
       "      <th>WoodDeckSF</th>\n",
       "      <th>OpenPorchSF</th>\n",
       "      <th>EnclosedPorch</th>\n",
       "      <th>ScreenPorch</th>\n",
       "    </tr>\n",
       "  </thead>\n",
       "  <tbody>\n",
       "    <tr>\n",
       "      <th>0</th>\n",
       "      <td>0</td>\n",
       "      <td>61</td>\n",
       "      <td>0</td>\n",
       "      <td>0</td>\n",
       "    </tr>\n",
       "    <tr>\n",
       "      <th>1</th>\n",
       "      <td>298</td>\n",
       "      <td>0</td>\n",
       "      <td>0</td>\n",
       "      <td>0</td>\n",
       "    </tr>\n",
       "    <tr>\n",
       "      <th>2</th>\n",
       "      <td>0</td>\n",
       "      <td>42</td>\n",
       "      <td>0</td>\n",
       "      <td>0</td>\n",
       "    </tr>\n",
       "    <tr>\n",
       "      <th>3</th>\n",
       "      <td>0</td>\n",
       "      <td>35</td>\n",
       "      <td>272</td>\n",
       "      <td>0</td>\n",
       "    </tr>\n",
       "    <tr>\n",
       "      <th>4</th>\n",
       "      <td>192</td>\n",
       "      <td>84</td>\n",
       "      <td>0</td>\n",
       "      <td>0</td>\n",
       "    </tr>\n",
       "    <tr>\n",
       "      <th>...</th>\n",
       "      <td>...</td>\n",
       "      <td>...</td>\n",
       "      <td>...</td>\n",
       "      <td>...</td>\n",
       "    </tr>\n",
       "    <tr>\n",
       "      <th>1454</th>\n",
       "      <td>0</td>\n",
       "      <td>0</td>\n",
       "      <td>0</td>\n",
       "      <td>0</td>\n",
       "    </tr>\n",
       "    <tr>\n",
       "      <th>1455</th>\n",
       "      <td>0</td>\n",
       "      <td>24</td>\n",
       "      <td>0</td>\n",
       "      <td>0</td>\n",
       "    </tr>\n",
       "    <tr>\n",
       "      <th>1456</th>\n",
       "      <td>474</td>\n",
       "      <td>0</td>\n",
       "      <td>0</td>\n",
       "      <td>0</td>\n",
       "    </tr>\n",
       "    <tr>\n",
       "      <th>1457</th>\n",
       "      <td>80</td>\n",
       "      <td>32</td>\n",
       "      <td>0</td>\n",
       "      <td>0</td>\n",
       "    </tr>\n",
       "    <tr>\n",
       "      <th>1458</th>\n",
       "      <td>190</td>\n",
       "      <td>48</td>\n",
       "      <td>0</td>\n",
       "      <td>0</td>\n",
       "    </tr>\n",
       "  </tbody>\n",
       "</table>\n",
       "<p>2919 rows × 4 columns</p>\n",
       "</div>"
      ],
      "text/plain": [
       "      WoodDeckSF  OpenPorchSF  EnclosedPorch  ScreenPorch\n",
       "0              0           61              0            0\n",
       "1            298            0              0            0\n",
       "2              0           42              0            0\n",
       "3              0           35            272            0\n",
       "4            192           84              0            0\n",
       "...          ...          ...            ...          ...\n",
       "1454           0            0              0            0\n",
       "1455           0           24              0            0\n",
       "1456         474            0              0            0\n",
       "1457          80           32              0            0\n",
       "1458         190           48              0            0\n",
       "\n",
       "[2919 rows x 4 columns]"
      ]
     },
     "execution_count": 24,
     "metadata": {},
     "output_type": "execute_result"
    }
   ],
   "source": [
    "# transform integer into binary (most values are zeros)\n",
    "\n",
    "int_bin = ['WoodDeckSF',\n",
    "'OpenPorchSF',\n",
    "'EnclosedPorch',\n",
    "'ScreenPorch']\n",
    "all_data[int_bin]"
   ]
  },
  {
   "cell_type": "code",
   "execution_count": 25,
   "id": "90056a27-e825-4547-bece-967b05b40922",
   "metadata": {},
   "outputs": [],
   "source": [
    "for i in int_bin:\n",
    "    all_data[i]=np.where(all_data[i]==0,0,1)"
   ]
  },
  {
   "cell_type": "code",
   "execution_count": 26,
   "id": "b34e1215-34c3-4d5a-b0b7-d86fed912da6",
   "metadata": {},
   "outputs": [
    {
     "data": {
      "text/html": [
       "<div>\n",
       "<style scoped>\n",
       "    .dataframe tbody tr th:only-of-type {\n",
       "        vertical-align: middle;\n",
       "    }\n",
       "\n",
       "    .dataframe tbody tr th {\n",
       "        vertical-align: top;\n",
       "    }\n",
       "\n",
       "    .dataframe thead th {\n",
       "        text-align: right;\n",
       "    }\n",
       "</style>\n",
       "<table border=\"1\" class=\"dataframe\">\n",
       "  <thead>\n",
       "    <tr style=\"text-align: right;\">\n",
       "      <th></th>\n",
       "      <th>WoodDeckSF</th>\n",
       "      <th>OpenPorchSF</th>\n",
       "      <th>EnclosedPorch</th>\n",
       "      <th>ScreenPorch</th>\n",
       "    </tr>\n",
       "  </thead>\n",
       "  <tbody>\n",
       "    <tr>\n",
       "      <th>0</th>\n",
       "      <td>1523</td>\n",
       "      <td>1298</td>\n",
       "      <td>2460</td>\n",
       "      <td>2663</td>\n",
       "    </tr>\n",
       "    <tr>\n",
       "      <th>1</th>\n",
       "      <td>1396</td>\n",
       "      <td>1621</td>\n",
       "      <td>459</td>\n",
       "      <td>256</td>\n",
       "    </tr>\n",
       "  </tbody>\n",
       "</table>\n",
       "</div>"
      ],
      "text/plain": [
       "   WoodDeckSF  OpenPorchSF  EnclosedPorch  ScreenPorch\n",
       "0        1523         1298           2460         2663\n",
       "1        1396         1621            459          256"
      ]
     },
     "execution_count": 26,
     "metadata": {},
     "output_type": "execute_result"
    }
   ],
   "source": [
    "# checking binary \n",
    "all_data[int_bin].apply(pd.Series.value_counts)"
   ]
  },
  {
   "cell_type": "markdown",
   "id": "1dbf5082-3463-437c-bc8c-d25feb68c1de",
   "metadata": {},
   "source": [
    "### Log Y"
   ]
  },
  {
   "cell_type": "code",
   "execution_count": 27,
   "id": "6e742901-a411-458a-b95b-9bd11be3c3cd",
   "metadata": {},
   "outputs": [],
   "source": [
    "all_data['SalePrice']=np.log(all_data['SalePrice'])"
   ]
  },
  {
   "cell_type": "code",
   "execution_count": 28,
   "id": "e908b9ea-95ad-46b3-8e0d-439e5eeab78a",
   "metadata": {},
   "outputs": [
    {
     "data": {
      "text/plain": [
       "count    1460.000000\n",
       "mean       12.024051\n",
       "std         0.399452\n",
       "min        10.460242\n",
       "25%        11.775097\n",
       "50%        12.001505\n",
       "75%        12.273731\n",
       "max        13.534473\n",
       "Name: SalePrice, dtype: float64"
      ]
     },
     "execution_count": 28,
     "metadata": {},
     "output_type": "execute_result"
    }
   ],
   "source": [
    "all_data['SalePrice'].describe()"
   ]
  },
  {
   "cell_type": "code",
   "execution_count": 29,
   "id": "9a605e29-76a9-4682-8dab-05105f54d33c",
   "metadata": {},
   "outputs": [
    {
     "data": {
      "text/plain": [
       "<AxesSubplot:xlabel='SalePrice', ylabel='Count'>"
      ]
     },
     "execution_count": 29,
     "metadata": {},
     "output_type": "execute_result"
    },
    {
     "data": {
      "image/png": "[encoded data removed]",
      "text/plain": [
       "<Figure size 936x360 with 2 Axes>"
      ]
     },
     "metadata": {
      "needs_background": "light"
     },
     "output_type": "display_data"
    }
   ],
   "source": [
    "plt.figure(figsize=(13,5))\n",
    "plt.subplot(1,2,1)\n",
    "sns.histplot(all_data_origin['SalePrice'])\n",
    "plt.subplot(1,2,2)\n",
    "sns.histplot(all_data['SalePrice'])"
   ]
  },
  {
   "cell_type": "markdown",
   "id": "c07924e0-7587-4f6b-ab96-e2009a6589b0",
   "metadata": {},
   "source": [
    "### Target encoding"
   ]
  },
  {
   "cell_type": "code",
   "execution_count": 30,
   "id": "37570ead-c613-48da-b758-611db6bf3c5c",
   "metadata": {},
   "outputs": [],
   "source": [
    "from category_encoders import TargetEncoder"
   ]
  },
  {
   "cell_type": "code",
   "execution_count": 31,
   "id": "07e6c8b9-ae75-49b9-824d-ab83efea6be6",
   "metadata": {},
   "outputs": [],
   "source": [
    "# копируем базу, так как заменяем много значений\n",
    "all_data_enc=all_data.copy()"
   ]
  },
  {
   "cell_type": "code",
   "execution_count": 32,
   "id": "9e05335c",
   "metadata": {},
   "outputs": [
    {
     "data": {
      "text/plain": [
       "42"
      ]
     },
     "execution_count": 32,
     "metadata": {},
     "output_type": "execute_result"
    }
   ],
   "source": [
    "# берем нечисловые переменные\n",
    "var_targ_enc = list(all_data_enc.select_dtypes(exclude=[\"number\"]).columns.values)\n",
    "len(var_targ_enc)"
   ]
  },
  {
   "cell_type": "code",
   "execution_count": 33,
   "id": "090fa355-5099-40f3-b9dd-0e4df18bea3a",
   "metadata": {},
   "outputs": [],
   "source": [
    "# replaced cat variables with \n",
    "for var in var_targ_enc:\n",
    "    targ_enc=TargetEncoder()\n",
    "    all_data_enc[var]=targ_enc.fit_transform(all_data_enc[var], all_data_enc['SalePrice'])"
   ]
  },
  {
   "cell_type": "code",
   "execution_count": 34,
   "id": "3eb98096",
   "metadata": {},
   "outputs": [
    {
     "data": {
      "text/html": [
       "<div>\n",
       "<style scoped>\n",
       "    .dataframe tbody tr th:only-of-type {\n",
       "        vertical-align: middle;\n",
       "    }\n",
       "\n",
       "    .dataframe tbody tr th {\n",
       "        vertical-align: top;\n",
       "    }\n",
       "\n",
       "    .dataframe thead th {\n",
       "        text-align: right;\n",
       "    }\n",
       "</style>\n",
       "<table border=\"1\" class=\"dataframe\">\n",
       "  <thead>\n",
       "    <tr style=\"text-align: right;\">\n",
       "      <th></th>\n",
       "      <th>count</th>\n",
       "      <th>mean</th>\n",
       "      <th>std</th>\n",
       "      <th>min</th>\n",
       "      <th>25%</th>\n",
       "      <th>50%</th>\n",
       "      <th>75%</th>\n",
       "      <th>max</th>\n",
       "    </tr>\n",
       "  </thead>\n",
       "  <tbody>\n",
       "    <tr>\n",
       "      <th>LandSlope</th>\n",
       "      <td>2919.0</td>\n",
       "      <td>12.023579</td>\n",
       "      <td>0.013894</td>\n",
       "      <td>12.020565</td>\n",
       "      <td>12.020565</td>\n",
       "      <td>12.020565</td>\n",
       "      <td>12.020565</td>\n",
       "      <td>12.130560</td>\n",
       "    </tr>\n",
       "    <tr>\n",
       "      <th>Street</th>\n",
       "      <td>2919.0</td>\n",
       "      <td>12.024060</td>\n",
       "      <td>0.022763</td>\n",
       "      <td>11.669821</td>\n",
       "      <td>12.025522</td>\n",
       "      <td>12.025522</td>\n",
       "      <td>12.025522</td>\n",
       "      <td>12.025522</td>\n",
       "    </tr>\n",
       "    <tr>\n",
       "      <th>Condition2</th>\n",
       "      <td>2919.0</td>\n",
       "      <td>12.023920</td>\n",
       "      <td>0.032091</td>\n",
       "      <td>11.593661</td>\n",
       "      <td>12.025895</td>\n",
       "      <td>12.025895</td>\n",
       "      <td>12.025895</td>\n",
       "      <td>12.367523</td>\n",
       "    </tr>\n",
       "    <tr>\n",
       "      <th>RoofMatl</th>\n",
       "      <td>2919.0</td>\n",
       "      <td>12.022487</td>\n",
       "      <td>0.041427</td>\n",
       "      <td>12.019216</td>\n",
       "      <td>12.019216</td>\n",
       "      <td>12.019216</td>\n",
       "      <td>12.019216</td>\n",
       "      <td>12.758245</td>\n",
       "    </tr>\n",
       "    <tr>\n",
       "      <th>Heating</th>\n",
       "      <td>2919.0</td>\n",
       "      <td>12.027146</td>\n",
       "      <td>0.055525</td>\n",
       "      <td>11.168008</td>\n",
       "      <td>12.032078</td>\n",
       "      <td>12.032078</td>\n",
       "      <td>12.032078</td>\n",
       "      <td>12.032078</td>\n",
       "    </tr>\n",
       "    <tr>\n",
       "      <th>...</th>\n",
       "      <td>...</td>\n",
       "      <td>...</td>\n",
       "      <td>...</td>\n",
       "      <td>...</td>\n",
       "      <td>...</td>\n",
       "      <td>...</td>\n",
       "      <td>...</td>\n",
       "      <td>...</td>\n",
       "    </tr>\n",
       "    <tr>\n",
       "      <th>KitchenQual</th>\n",
       "      <td>2918.0</td>\n",
       "      <td>12.023483</td>\n",
       "      <td>0.267222</td>\n",
       "      <td>11.504581</td>\n",
       "      <td>11.810592</td>\n",
       "      <td>11.810592</td>\n",
       "      <td>12.222337</td>\n",
       "      <td>12.633614</td>\n",
       "    </tr>\n",
       "    <tr>\n",
       "      <th>ExterQual</th>\n",
       "      <td>2919.0</td>\n",
       "      <td>12.024274</td>\n",
       "      <td>0.274410</td>\n",
       "      <td>11.304543</td>\n",
       "      <td>11.837985</td>\n",
       "      <td>11.837985</td>\n",
       "      <td>12.311282</td>\n",
       "      <td>12.764044</td>\n",
       "    </tr>\n",
       "    <tr>\n",
       "      <th>BsmtQual</th>\n",
       "      <td>2919.0</td>\n",
       "      <td>12.023392</td>\n",
       "      <td>0.274590</td>\n",
       "      <td>11.529680</td>\n",
       "      <td>11.810855</td>\n",
       "      <td>12.179882</td>\n",
       "      <td>12.179882</td>\n",
       "      <td>12.640394</td>\n",
       "    </tr>\n",
       "    <tr>\n",
       "      <th>Neighborhood</th>\n",
       "      <td>2919.0</td>\n",
       "      <td>12.017607</td>\n",
       "      <td>0.305029</td>\n",
       "      <td>11.446889</td>\n",
       "      <td>11.811468</td>\n",
       "      <td>11.933948</td>\n",
       "      <td>12.169416</td>\n",
       "      <td>12.676000</td>\n",
       "    </tr>\n",
       "    <tr>\n",
       "      <th>OverallQual</th>\n",
       "      <td>2919.0</td>\n",
       "      <td>12.023365</td>\n",
       "      <td>0.333904</td>\n",
       "      <td>10.968268</td>\n",
       "      <td>11.780657</td>\n",
       "      <td>11.967308</td>\n",
       "      <td>12.221773</td>\n",
       "      <td>12.921305</td>\n",
       "    </tr>\n",
       "  </tbody>\n",
       "</table>\n",
       "<p>42 rows × 8 columns</p>\n",
       "</div>"
      ],
      "text/plain": [
       "               count       mean       std        min        25%        50%  \\\n",
       "LandSlope     2919.0  12.023579  0.013894  12.020565  12.020565  12.020565   \n",
       "Street        2919.0  12.024060  0.022763  11.669821  12.025522  12.025522   \n",
       "Condition2    2919.0  12.023920  0.032091  11.593661  12.025895  12.025895   \n",
       "RoofMatl      2919.0  12.022487  0.041427  12.019216  12.019216  12.019216   \n",
       "Heating       2919.0  12.027146  0.055525  11.168008  12.032078  12.032078   \n",
       "...              ...        ...       ...        ...        ...        ...   \n",
       "KitchenQual   2918.0  12.023483  0.267222  11.504581  11.810592  11.810592   \n",
       "ExterQual     2919.0  12.024274  0.274410  11.304543  11.837985  11.837985   \n",
       "BsmtQual      2919.0  12.023392  0.274590  11.529680  11.810855  12.179882   \n",
       "Neighborhood  2919.0  12.017607  0.305029  11.446889  11.811468  11.933948   \n",
       "OverallQual   2919.0  12.023365  0.333904  10.968268  11.780657  11.967308   \n",
       "\n",
       "                    75%        max  \n",
       "LandSlope     12.020565  12.130560  \n",
       "Street        12.025522  12.025522  \n",
       "Condition2    12.025895  12.367523  \n",
       "RoofMatl      12.019216  12.758245  \n",
       "Heating       12.032078  12.032078  \n",
       "...                 ...        ...  \n",
       "KitchenQual   12.222337  12.633614  \n",
       "ExterQual     12.311282  12.764044  \n",
       "BsmtQual      12.179882  12.640394  \n",
       "Neighborhood  12.169416  12.676000  \n",
       "OverallQual   12.221773  12.921305  \n",
       "\n",
       "[42 rows x 8 columns]"
      ]
     },
     "execution_count": 34,
     "metadata": {},
     "output_type": "execute_result"
    }
   ],
   "source": [
    "all_data_enc[var_targ_enc].describe().T.sort_values('std')"
   ]
  },
  {
   "cell_type": "code",
   "execution_count": 70,
   "id": "04dcd266",
   "metadata": {},
   "outputs": [
    {
     "data": {
      "text/plain": [
       "(2919, 72)"
      ]
     },
     "execution_count": 70,
     "metadata": {},
     "output_type": "execute_result"
    }
   ],
   "source": [
    "all_data_enc.shape"
   ]
  },
  {
   "cell_type": "markdown",
   "id": "3b39116b",
   "metadata": {},
   "source": [
    "### One-hot encoding"
   ]
  },
  {
   "cell_type": "code",
   "execution_count": 87,
   "id": "ad3eddbd",
   "metadata": {},
   "outputs": [
    {
     "data": {
      "text/plain": [
       "Neighborhood    25\n",
       "MSSubClass      16\n",
       "Exterior2nd     16\n",
       "Exterior1st     15\n",
       "OverallQual     10\n",
       "                ..\n",
       "LandSlope        3\n",
       "GarageFinish     3\n",
       "PavedDrive       3\n",
       "Street           2\n",
       "CentralAir       2\n",
       "Length: 42, dtype: int64"
      ]
     },
     "execution_count": 87,
     "metadata": {},
     "output_type": "execute_result"
    }
   ],
   "source": [
    "# how many classes. \n",
    "all_data.select_dtypes(['object', 'category']).nunique().sort_values(ascending=False)"
   ]
  },
  {
   "cell_type": "code",
   "execution_count": 119,
   "id": "31982899",
   "metadata": {},
   "outputs": [
    {
     "data": {
      "text/plain": [
       "276"
      ]
     },
     "execution_count": 119,
     "metadata": {},
     "output_type": "execute_result"
    }
   ],
   "source": [
    "all_data.select_dtypes(['object', 'category']).nunique().sum()"
   ]
  },
  {
   "cell_type": "code",
   "execution_count": 121,
   "id": "9dea8e7d",
   "metadata": {},
   "outputs": [],
   "source": [
    "onehot_all = all_data['Train Dataset'].reset_index(drop=True)\n",
    "cat_vars = list(all_data.select_dtypes(['object', 'category']).columns)\n",
    "for var in cat_vars:\n",
    "    dummies = pd.get_dummies(all_data[var], prefix=var).reset_index(drop=True)\n",
    "    onehot_all = pd.concat([onehot_all, dummies], axis=1)\n"
   ]
  },
  {
   "cell_type": "code",
   "execution_count": 168,
   "id": "e69b1639",
   "metadata": {},
   "outputs": [],
   "source": [
    "# remove all onehots with too few 1's\n",
    "onehot_minors = onehot_all.columns[(onehot_all.mean()<0.01) | (onehot_all.mean()>0.99)]\n",
    "for var in onehot_minors:\n",
    "    onehot_all.drop(var, axis=1, inplace=True)"
   ]
  },
  {
   "cell_type": "code",
   "execution_count": 169,
   "id": "3282ceac",
   "metadata": {},
   "outputs": [
    {
     "data": {
      "text/plain": [
       "((2919, 186), (2919, 72))"
      ]
     },
     "execution_count": 169,
     "metadata": {},
     "output_type": "execute_result"
    }
   ],
   "source": [
    "onehot_all.shape, all_data_enc.shape"
   ]
  },
  {
   "cell_type": "code",
   "execution_count": 170,
   "id": "4a4ffb96",
   "metadata": {},
   "outputs": [],
   "source": [
    "# onehot_all.drop('Train Dataset', axis=1, inplace=True)\n",
    "all_data_enc = pd.concat([all_data_enc, onehot_all], axis=1)"
   ]
  },
  {
   "cell_type": "markdown",
   "id": "f895d42e-61f4-4eb1-8929-52e07b2184b9",
   "metadata": {},
   "source": [
    "### NaN replace"
   ]
  },
  {
   "cell_type": "code",
   "execution_count": 36,
   "id": "b9caefdd-84c7-4cc4-a98c-80cc30c4e5c7",
   "metadata": {},
   "outputs": [
    {
     "data": {
      "text/plain": [
       "['MSSubClass',\n",
       " 'MSZoning',\n",
       " 'LotFrontage',\n",
       " 'Exterior1st',\n",
       " 'Exterior2nd',\n",
       " 'MasVnrArea',\n",
       " 'BsmtFinSF1',\n",
       " 'BsmtFinSF2',\n",
       " 'BsmtUnfSF',\n",
       " 'TotalBsmtSF',\n",
       " 'BsmtFullBath',\n",
       " 'KitchenQual',\n",
       " 'Functional',\n",
       " 'GarageYrBlt',\n",
       " 'GarageCars',\n",
       " 'GarageArea',\n",
       " 'SaleType',\n",
       " 'SalePrice']"
      ]
     },
     "execution_count": 36,
     "metadata": {},
     "output_type": "execute_result"
    }
   ],
   "source": [
    "all_data_enc.columns[all_data_enc.isna().any()].tolist()"
   ]
  },
  {
   "cell_type": "code",
   "execution_count": 37,
   "id": "38405152-b828-4d37-82ab-093f4809727b",
   "metadata": {},
   "outputs": [],
   "source": [
    "# убрали SalePrice\n",
    "var_nan=['MSSubClass',\n",
    " 'MSZoning',\n",
    " 'LotFrontage',\n",
    " 'Exterior1st',\n",
    " 'Exterior2nd',\n",
    " 'MasVnrArea',\n",
    " 'BsmtFinSF1',\n",
    " 'BsmtFinSF2',\n",
    " 'BsmtUnfSF',\n",
    " 'TotalBsmtSF',\n",
    " 'BsmtFullBath',\n",
    " 'KitchenQual',\n",
    " 'Functional',\n",
    " 'GarageYrBlt',\n",
    " 'GarageCars',\n",
    " 'GarageArea',\n",
    " 'SaleType']\n",
    "\n",
    "for var in var_nan:\n",
    "    all_data_enc[var].fillna(all_data_enc[var].median(), inplace=True)"
   ]
  },
  {
   "cell_type": "markdown",
   "id": "bb9db776-c420-4ba6-b757-bf13dbdd568d",
   "metadata": {
    "toc-hr-collapsed": true
   },
   "source": [
    "## Clustering"
   ]
  },
  {
   "cell_type": "code",
   "execution_count": 38,
   "id": "16eac8d2-5dc6-445c-a1be-aa45cbd2fc14",
   "metadata": {},
   "outputs": [],
   "source": [
    "from sklearn.cluster import KMeans\n",
    "from sklearn.metrics import silhouette_score"
   ]
  },
  {
   "cell_type": "code",
   "execution_count": 39,
   "id": "b52ac5f9-bb37-42ee-8157-6c9773327b58",
   "metadata": {},
   "outputs": [
    {
     "data": {
      "text/plain": [
       "array([1, 0, 1, ..., 3, 2, 0], dtype=int32)"
      ]
     },
     "execution_count": 39,
     "metadata": {},
     "output_type": "execute_result"
    }
   ],
   "source": [
    "km = KMeans(n_clusters=5,random_state=123)\n",
    "km.fit_predict(all_data_enc[var_targ_enc])"
   ]
  },
  {
   "cell_type": "code",
   "execution_count": 40,
   "id": "95007cfb",
   "metadata": {},
   "outputs": [
    {
     "data": {
      "text/plain": [
       "0.1294070532520375"
      ]
     },
     "execution_count": 40,
     "metadata": {},
     "output_type": "execute_result"
    }
   ],
   "source": [
    "silhouette_score(all_data_enc[var_targ_enc], km.labels_)"
   ]
  },
  {
   "cell_type": "code",
   "execution_count": 41,
   "id": "019a8f96",
   "metadata": {},
   "outputs": [],
   "source": [
    "# add cluster variable based on categorical variables\n",
    "all_data_enc.reset_index(inplace=True)\n",
    "all_data_enc = pd.concat([all_data_enc, pd.Series(km.labels_, name='Cluster1')], axis=1)"
   ]
  },
  {
   "cell_type": "code",
   "execution_count": 42,
   "id": "776d9014",
   "metadata": {},
   "outputs": [
    {
     "data": {
      "text/html": [
       "<div>\n",
       "<style scoped>\n",
       "    .dataframe tbody tr th:only-of-type {\n",
       "        vertical-align: middle;\n",
       "    }\n",
       "\n",
       "    .dataframe tbody tr th {\n",
       "        vertical-align: top;\n",
       "    }\n",
       "\n",
       "    .dataframe thead th {\n",
       "        text-align: right;\n",
       "    }\n",
       "</style>\n",
       "<table border=\"1\" class=\"dataframe\">\n",
       "  <thead>\n",
       "    <tr style=\"text-align: right;\">\n",
       "      <th></th>\n",
       "      <th>SalePrice</th>\n",
       "    </tr>\n",
       "    <tr>\n",
       "      <th>Cluster1</th>\n",
       "      <th></th>\n",
       "    </tr>\n",
       "  </thead>\n",
       "  <tbody>\n",
       "    <tr>\n",
       "      <th>0</th>\n",
       "      <td>11.982162</td>\n",
       "    </tr>\n",
       "    <tr>\n",
       "      <th>1</th>\n",
       "      <td>12.259193</td>\n",
       "    </tr>\n",
       "    <tr>\n",
       "      <th>2</th>\n",
       "      <td>11.488087</td>\n",
       "    </tr>\n",
       "    <tr>\n",
       "      <th>3</th>\n",
       "      <td>11.714878</td>\n",
       "    </tr>\n",
       "    <tr>\n",
       "      <th>4</th>\n",
       "      <td>12.710243</td>\n",
       "    </tr>\n",
       "  </tbody>\n",
       "</table>\n",
       "</div>"
      ],
      "text/plain": [
       "          SalePrice\n",
       "Cluster1           \n",
       "0         11.982162\n",
       "1         12.259193\n",
       "2         11.488087\n",
       "3         11.714878\n",
       "4         12.710243"
      ]
     },
     "execution_count": 42,
     "metadata": {},
     "output_type": "execute_result"
    }
   ],
   "source": [
    "# 5 clusters - quite good differentiation (groups rather even)\n",
    "all_data_enc[['Cluster1', 'SalePrice']].groupby('Cluster1').mean()"
   ]
  },
  {
   "cell_type": "code",
   "execution_count": 43,
   "id": "b8f937eb",
   "metadata": {},
   "outputs": [],
   "source": [
    "# to remove redu\n",
    "# all_data_enc.drop(['level_0','index', 'Cluster1'], axis=1, inplace=True, errors='ignore')"
   ]
  },
  {
   "cell_type": "code",
   "execution_count": 44,
   "id": "8b9f5f64",
   "metadata": {},
   "outputs": [],
   "source": [
    "all_data_enc.drop(['level_0','index'], axis=1, inplace=True, errors='ignore')"
   ]
  },
  {
   "cell_type": "markdown",
   "id": "70976201-bd15-4c06-b980-c9be33aa2ffb",
   "metadata": {},
   "source": [
    "## Robust Scaling"
   ]
  },
  {
   "cell_type": "code",
   "execution_count": 45,
   "id": "e5e9da07-3fd2-4af2-bfa2-154a3b81e6ab",
   "metadata": {},
   "outputs": [],
   "source": [
    "from sklearn.preprocessing import RobustScaler"
   ]
  },
  {
   "cell_type": "code",
   "execution_count": 173,
   "id": "67dab324",
   "metadata": {},
   "outputs": [],
   "source": [
    "all_data_enc_st = all_data_enc.drop(['SalePrice', 'Train Dataset'], axis=1)"
   ]
  },
  {
   "cell_type": "code",
   "execution_count": 174,
   "id": "05293640-c84e-4c5a-b7c7-44148d8ed54f",
   "metadata": {
    "tags": []
   },
   "outputs": [],
   "source": [
    "r_scaler=RobustScaler()\n",
    "cols = all_data_enc_st.columns\n",
    "all_data_enc_st = r_scaler.fit_transform(all_data_enc_st)\n",
    "# turn back to DF and column names\n",
    "all_data_enc_st=pd.DataFrame(all_data_enc_st, columns=cols)"
   ]
  },
  {
   "cell_type": "code",
   "execution_count": 175,
   "id": "c4f79d9d-b545-4db6-9866-dca74ea75095",
   "metadata": {
    "collapsed": true,
    "jupyter": {
     "outputs_hidden": true
    },
    "tags": []
   },
   "outputs": [
    {
     "data": {
      "text/html": [
       "<div>\n",
       "<style scoped>\n",
       "    .dataframe tbody tr th:only-of-type {\n",
       "        vertical-align: middle;\n",
       "    }\n",
       "\n",
       "    .dataframe tbody tr th {\n",
       "        vertical-align: top;\n",
       "    }\n",
       "\n",
       "    .dataframe thead th {\n",
       "        text-align: right;\n",
       "    }\n",
       "</style>\n",
       "<table border=\"1\" class=\"dataframe\">\n",
       "  <thead>\n",
       "    <tr style=\"text-align: right;\">\n",
       "      <th></th>\n",
       "      <th>count</th>\n",
       "      <th>mean</th>\n",
       "      <th>std</th>\n",
       "      <th>min</th>\n",
       "      <th>25%</th>\n",
       "      <th>50%</th>\n",
       "      <th>75%</th>\n",
       "      <th>max</th>\n",
       "    </tr>\n",
       "  </thead>\n",
       "  <tbody>\n",
       "    <tr>\n",
       "      <th>MSSubClass</th>\n",
       "      <td>2919.0</td>\n",
       "      <td>-0.085733</td>\n",
       "      <td>0.635983</td>\n",
       "      <td>-1.733748</td>\n",
       "      <td>-0.667337</td>\n",
       "      <td>0.000000</td>\n",
       "      <td>0.332663</td>\n",
       "      <td>0.804405</td>\n",
       "    </tr>\n",
       "    <tr>\n",
       "      <th>MSZoning</th>\n",
       "      <td>2919.0</td>\n",
       "      <td>-0.065557</td>\n",
       "      <td>0.174081</td>\n",
       "      <td>-0.967514</td>\n",
       "      <td>0.000000</td>\n",
       "      <td>0.000000</td>\n",
       "      <td>0.000000</td>\n",
       "      <td>0.160731</td>\n",
       "    </tr>\n",
       "    <tr>\n",
       "      <th>LotFrontage</th>\n",
       "      <td>2919.0</td>\n",
       "      <td>0.060466</td>\n",
       "      <td>1.184328</td>\n",
       "      <td>-2.611111</td>\n",
       "      <td>-0.444444</td>\n",
       "      <td>0.000000</td>\n",
       "      <td>0.555556</td>\n",
       "      <td>13.611111</td>\n",
       "    </tr>\n",
       "    <tr>\n",
       "      <th>LotArea</th>\n",
       "      <td>2919.0</td>\n",
       "      <td>0.174759</td>\n",
       "      <td>1.927418</td>\n",
       "      <td>-1.992424</td>\n",
       "      <td>-0.482649</td>\n",
       "      <td>0.000000</td>\n",
       "      <td>0.517351</td>\n",
       "      <td>50.291300</td>\n",
       "    </tr>\n",
       "    <tr>\n",
       "      <th>Street</th>\n",
       "      <td>2919.0</td>\n",
       "      <td>-0.001462</td>\n",
       "      <td>0.022763</td>\n",
       "      <td>-0.355701</td>\n",
       "      <td>0.000000</td>\n",
       "      <td>0.000000</td>\n",
       "      <td>0.000000</td>\n",
       "      <td>0.000000</td>\n",
       "    </tr>\n",
       "    <tr>\n",
       "      <th>...</th>\n",
       "      <td>...</td>\n",
       "      <td>...</td>\n",
       "      <td>...</td>\n",
       "      <td>...</td>\n",
       "      <td>...</td>\n",
       "      <td>...</td>\n",
       "      <td>...</td>\n",
       "      <td>...</td>\n",
       "    </tr>\n",
       "    <tr>\n",
       "      <th>SaleCondition_Family</th>\n",
       "      <td>2919.0</td>\n",
       "      <td>0.015759</td>\n",
       "      <td>0.124562</td>\n",
       "      <td>0.000000</td>\n",
       "      <td>0.000000</td>\n",
       "      <td>0.000000</td>\n",
       "      <td>0.000000</td>\n",
       "      <td>1.000000</td>\n",
       "    </tr>\n",
       "    <tr>\n",
       "      <th>SaleCondition_Normal</th>\n",
       "      <td>2919.0</td>\n",
       "      <td>-0.177115</td>\n",
       "      <td>0.381832</td>\n",
       "      <td>-1.000000</td>\n",
       "      <td>0.000000</td>\n",
       "      <td>0.000000</td>\n",
       "      <td>0.000000</td>\n",
       "      <td>0.000000</td>\n",
       "    </tr>\n",
       "    <tr>\n",
       "      <th>SaleCondition_Partial</th>\n",
       "      <td>2919.0</td>\n",
       "      <td>0.083933</td>\n",
       "      <td>0.277335</td>\n",
       "      <td>0.000000</td>\n",
       "      <td>0.000000</td>\n",
       "      <td>0.000000</td>\n",
       "      <td>0.000000</td>\n",
       "      <td>1.000000</td>\n",
       "    </tr>\n",
       "    <tr>\n",
       "      <th>SalePrice</th>\n",
       "      <td>1460.0</td>\n",
       "      <td>12.024051</td>\n",
       "      <td>0.399452</td>\n",
       "      <td>10.460242</td>\n",
       "      <td>11.775097</td>\n",
       "      <td>12.001505</td>\n",
       "      <td>12.273731</td>\n",
       "      <td>13.534473</td>\n",
       "    </tr>\n",
       "    <tr>\n",
       "      <th>Train Dataset</th>\n",
       "      <td>2919.0</td>\n",
       "      <td>0.500171</td>\n",
       "      <td>0.500086</td>\n",
       "      <td>0.000000</td>\n",
       "      <td>0.000000</td>\n",
       "      <td>1.000000</td>\n",
       "      <td>1.000000</td>\n",
       "      <td>1.000000</td>\n",
       "    </tr>\n",
       "  </tbody>\n",
       "</table>\n",
       "<p>258 rows × 8 columns</p>\n",
       "</div>"
      ],
      "text/plain": [
       "                        count       mean       std        min        25%  \\\n",
       "MSSubClass             2919.0  -0.085733  0.635983  -1.733748  -0.667337   \n",
       "MSZoning               2919.0  -0.065557  0.174081  -0.967514   0.000000   \n",
       "LotFrontage            2919.0   0.060466  1.184328  -2.611111  -0.444444   \n",
       "LotArea                2919.0   0.174759  1.927418  -1.992424  -0.482649   \n",
       "Street                 2919.0  -0.001462  0.022763  -0.355701   0.000000   \n",
       "...                       ...        ...       ...        ...        ...   \n",
       "SaleCondition_Family   2919.0   0.015759  0.124562   0.000000   0.000000   \n",
       "SaleCondition_Normal   2919.0  -0.177115  0.381832  -1.000000   0.000000   \n",
       "SaleCondition_Partial  2919.0   0.083933  0.277335   0.000000   0.000000   \n",
       "SalePrice              1460.0  12.024051  0.399452  10.460242  11.775097   \n",
       "Train Dataset          2919.0   0.500171  0.500086   0.000000   0.000000   \n",
       "\n",
       "                             50%        75%        max  \n",
       "MSSubClass              0.000000   0.332663   0.804405  \n",
       "MSZoning                0.000000   0.000000   0.160731  \n",
       "LotFrontage             0.000000   0.555556  13.611111  \n",
       "LotArea                 0.000000   0.517351  50.291300  \n",
       "Street                  0.000000   0.000000   0.000000  \n",
       "...                          ...        ...        ...  \n",
       "SaleCondition_Family    0.000000   0.000000   1.000000  \n",
       "SaleCondition_Normal    0.000000   0.000000   0.000000  \n",
       "SaleCondition_Partial   0.000000   0.000000   1.000000  \n",
       "SalePrice              12.001505  12.273731  13.534473  \n",
       "Train Dataset           1.000000   1.000000   1.000000  \n",
       "\n",
       "[258 rows x 8 columns]"
      ]
     },
     "execution_count": 175,
     "metadata": {},
     "output_type": "execute_result"
    }
   ],
   "source": [
    "# возвращаем train set classifer и Y\n",
    "all_data_enc_st['SalePrice']=np.array(all_data_enc['SalePrice'])\n",
    "all_data_enc_st['Train Dataset']=np.array(all_data_enc['Train Dataset'])\n",
    "all_data_enc_st.describe().T"
   ]
  },
  {
   "cell_type": "markdown",
   "id": "4a0ec0a8",
   "metadata": {},
   "source": [
    "## Modeling"
   ]
  },
  {
   "cell_type": "code",
   "execution_count": 49,
   "id": "0b5fb687-fff6-4195-991a-17061c6c1135",
   "metadata": {},
   "outputs": [],
   "source": [
    "from sklearn.model_selection import train_test_split\n",
    "from sklearn.tree import DecisionTreeRegressor\n",
    "from sklearn.linear_model import LinearRegression\n",
    "from sklearn.linear_model import Ridge\n",
    "from sklearn.metrics import mean_squared_error\n",
    "from sklearn.metrics import mean_squared_log_error\n",
    "from sklearn.metrics import mean_absolute_percentage_error"
   ]
  },
  {
   "cell_type": "code",
   "execution_count": 176,
   "id": "ace6bbc7",
   "metadata": {},
   "outputs": [],
   "source": [
    "all_data_enc_tr = all_data_enc_st[all_data_enc_st['Train Dataset']==1]\n",
    "all_data_enc_tr = all_data_enc_tr.drop('Train Dataset', axis=1)"
   ]
  },
  {
   "cell_type": "code",
   "execution_count": 177,
   "id": "b95b2b68",
   "metadata": {},
   "outputs": [],
   "source": [
    "X_train, X_test, Y_train, Y_test = train_test_split(all_data_enc_tr.drop('SalePrice', axis=1), all_data_enc_tr['SalePrice'], random_state=42)"
   ]
  },
  {
   "cell_type": "code",
   "execution_count": 178,
   "id": "c28bec07-1715-4156-9dab-89e7b91af804",
   "metadata": {},
   "outputs": [
    {
     "data": {
      "text/plain": [
       "((1095, 256), (1095,), (365, 256), (365,))"
      ]
     },
     "execution_count": 178,
     "metadata": {},
     "output_type": "execute_result"
    }
   ],
   "source": [
    "X_train.shape, Y_train.shape, X_test.shape, Y_test.shape"
   ]
  },
  {
   "cell_type": "markdown",
   "id": "811197e1",
   "metadata": {},
   "source": [
    "### Ridge"
   ]
  },
  {
   "cell_type": "code",
   "execution_count": 179,
   "id": "eb92ff0f-1d0f-4979-b9ed-38d06314b547",
   "metadata": {},
   "outputs": [],
   "source": [
    "rdg=Ridge(random_state=666)"
   ]
  },
  {
   "cell_type": "code",
   "execution_count": 180,
   "id": "e1f657aa-e550-45d1-bdc7-684eeed4c77f",
   "metadata": {},
   "outputs": [
    {
     "data": {
      "text/plain": [
       "Ridge(random_state=666)"
      ]
     },
     "execution_count": 180,
     "metadata": {},
     "output_type": "execute_result"
    }
   ],
   "source": [
    "rdg.fit(X_train, Y_train)"
   ]
  },
  {
   "cell_type": "code",
   "execution_count": 181,
   "id": "8e345fd6-78b9-478e-b814-62e3b7335665",
   "metadata": {},
   "outputs": [
    {
     "name": "stdout",
     "output_type": "stream",
     "text": [
      "train, RMSLE:  0.10573286133828429\n",
      "test, RMSLE:  0.13312286403456466\n"
     ]
    }
   ],
   "source": [
    "print('train, RMSLE: ', str(mean_squared_log_error(np.exp(Y_train), np.exp(rdg.predict(X_train)), squared=False)))\n",
    "print('test, RMSLE: ', str(mean_squared_log_error(np.exp(Y_test), np.exp(rdg.predict(X_test)), squared=False)))"
   ]
  },
  {
   "cell_type": "markdown",
   "id": "7c37e6b7-85db-43b3-9d07-5564d478e1d3",
   "metadata": {
    "toc-hr-collapsed": true
   },
   "source": [
    "### GradBoost"
   ]
  },
  {
   "cell_type": "code",
   "execution_count": 182,
   "id": "ea891675-23c4-4ea9-8869-399ef6d20f8b",
   "metadata": {},
   "outputs": [
    {
     "data": {
      "text/plain": [
       "GradientBoostingRegressor(random_state=666)"
      ]
     },
     "execution_count": 182,
     "metadata": {},
     "output_type": "execute_result"
    }
   ],
   "source": [
    "from sklearn.ensemble import GradientBoostingRegressor\n",
    "grdb=GradientBoostingRegressor(random_state=666)\n",
    "grdb.fit(X_train, Y_train)"
   ]
  },
  {
   "cell_type": "code",
   "execution_count": 183,
   "id": "26618b6f-d156-4943-b933-f71cd66b2bb6",
   "metadata": {},
   "outputs": [
    {
     "name": "stdout",
     "output_type": "stream",
     "text": [
      "train, RMSLE:  0.07448774658462977\n",
      "test, RMSLE:  0.12363297230206635\n"
     ]
    }
   ],
   "source": [
    "print('train, RMSLE: ', str(mean_squared_log_error(np.exp(Y_train), np.exp(grdb.predict(X_train)), squared=False)))\n",
    "print('test, RMSLE: ', str(mean_squared_log_error(np.exp(Y_test), np.exp(grdb.predict(X_test)), squared=False)))"
   ]
  },
  {
   "cell_type": "markdown",
   "id": "63a38f9c-42e9-4980-b3aa-769c461e15ea",
   "metadata": {
    "tags": []
   },
   "source": [
    "### Random Forest"
   ]
  },
  {
   "cell_type": "code",
   "execution_count": 184,
   "id": "15e1fb51-b7d8-400c-bcc9-e18ea843318e",
   "metadata": {},
   "outputs": [
    {
     "data": {
      "text/plain": [
       "RandomForestRegressor(random_state=666)"
      ]
     },
     "execution_count": 184,
     "metadata": {},
     "output_type": "execute_result"
    }
   ],
   "source": [
    "from sklearn.ensemble import RandomForestRegressor\n",
    "rfr=RandomForestRegressor(random_state=666)\n",
    "rfr.fit(X_train, Y_train)"
   ]
  },
  {
   "cell_type": "code",
   "execution_count": 185,
   "id": "90195c76-f2b6-4991-8ed2-42575edae991",
   "metadata": {},
   "outputs": [
    {
     "name": "stdout",
     "output_type": "stream",
     "text": [
      "train, RMSLE:  0.055104915346964295\n",
      "test, RMSLE:  0.13455749357423089\n"
     ]
    }
   ],
   "source": [
    "print('train, RMSLE: ', str(mean_squared_log_error(np.exp(Y_train), np.exp(rfr.predict(X_train)), squared=False)))\n",
    "print('test, RMSLE: ', str(mean_squared_log_error(np.exp(Y_test), np.exp(rfr.predict(X_test)), squared=False)))"
   ]
  },
  {
   "cell_type": "code",
   "execution_count": null,
   "id": "3abfde35",
   "metadata": {},
   "outputs": [],
   "source": []
  },
  {
   "cell_type": "markdown",
   "id": "97c74252",
   "metadata": {},
   "source": [
    "проверить на каких данных самые большие отличия"
   ]
  },
  {
   "cell_type": "markdown",
   "id": "16bfe740-5ddc-4474-a881-b2dd75a186cc",
   "metadata": {},
   "source": [
    "### Comparison"
   ]
  },
  {
   "cell_type": "code",
   "execution_count": 186,
   "id": "5674ab3a-67cc-41a3-abb7-878e81b26d7c",
   "metadata": {},
   "outputs": [
    {
     "data": {
      "image/png": "[encoded data removed]",
      "text/plain": [
       "<Figure size 1296x432 with 3 Axes>"
      ]
     },
     "metadata": {
      "needs_background": "light"
     },
     "output_type": "display_data"
    }
   ],
   "source": [
    "plt.figure(figsize=(18,6))\n",
    "plt.subplot(1,3,1)\n",
    "sns.scatterplot(x=np.exp(Y_test), y=np.exp(rfr.predict(X_test)), hue=X_test['Cluster1']).set_title('RFR')\n",
    "plt.plot([1,700000],[1,700000],'r:')\n",
    "plt.plot([200000,200000],[1,700000],'b:')\n",
    "plt.subplot(1,3,2)\n",
    "sns.scatterplot(x=np.exp(Y_test), y=np.exp(rdg.predict(X_test)), hue=X_test['Cluster1']).set_title('RDG')\n",
    "plt.plot([1,700000],[1,700000],'r:')\n",
    "plt.plot([200000,200000],[1,700000],'b:')\n",
    "plt.subplot(1,3,3)\n",
    "sns.scatterplot(x=np.exp(Y_test), y=np.exp(grdb.predict(X_test)), hue=X_test['Cluster1']).set_title('GRB')\n",
    "plt.plot([1,700000],[1,700000],'r:')\n",
    "plt.plot([200000,200000],[1,700000],'b:');"
   ]
  },
  {
   "cell_type": "code",
   "execution_count": 191,
   "id": "63a9ad7a",
   "metadata": {},
   "outputs": [],
   "source": [
    "compar = pd.DataFrame([np.array(np.exp(Y_test)), np.exp(rfr.predict(X_test)), X_test['Cluster1']]).T\n",
    "compar.columns=['Y', 'Pred','Clust']\n",
    "# compar"
   ]
  },
  {
   "cell_type": "code",
   "execution_count": 192,
   "id": "c3b5a0f2",
   "metadata": {},
   "outputs": [
    {
     "data": {
      "text/html": [
       "<div>\n",
       "<style scoped>\n",
       "    .dataframe tbody tr th:only-of-type {\n",
       "        vertical-align: middle;\n",
       "    }\n",
       "\n",
       "    .dataframe tbody tr th {\n",
       "        vertical-align: top;\n",
       "    }\n",
       "\n",
       "    .dataframe thead th {\n",
       "        text-align: right;\n",
       "    }\n",
       "</style>\n",
       "<table border=\"1\" class=\"dataframe\">\n",
       "  <thead>\n",
       "    <tr style=\"text-align: right;\">\n",
       "      <th></th>\n",
       "      <th>Y</th>\n",
       "      <th>Pred</th>\n",
       "    </tr>\n",
       "    <tr>\n",
       "      <th>Clust</th>\n",
       "      <th></th>\n",
       "      <th></th>\n",
       "    </tr>\n",
       "  </thead>\n",
       "  <tbody>\n",
       "    <tr>\n",
       "      <th>-0.333333</th>\n",
       "      <td>158050.104762</td>\n",
       "      <td>157085.352465</td>\n",
       "    </tr>\n",
       "    <tr>\n",
       "      <th>0.000000</th>\n",
       "      <td>215724.831776</td>\n",
       "      <td>211168.368745</td>\n",
       "    </tr>\n",
       "    <tr>\n",
       "      <th>0.333333</th>\n",
       "      <td>102080.303030</td>\n",
       "      <td>105722.388742</td>\n",
       "    </tr>\n",
       "    <tr>\n",
       "      <th>0.666667</th>\n",
       "      <td>122575.988764</td>\n",
       "      <td>120030.490293</td>\n",
       "    </tr>\n",
       "    <tr>\n",
       "      <th>1.000000</th>\n",
       "      <td>361750.354839</td>\n",
       "      <td>342990.842612</td>\n",
       "    </tr>\n",
       "  </tbody>\n",
       "</table>\n",
       "</div>"
      ],
      "text/plain": [
       "                       Y           Pred\n",
       "Clust                                  \n",
       "-0.333333  158050.104762  157085.352465\n",
       " 0.000000  215724.831776  211168.368745\n",
       " 0.333333  102080.303030  105722.388742\n",
       " 0.666667  122575.988764  120030.490293\n",
       " 1.000000  361750.354839  342990.842612"
      ]
     },
     "execution_count": 192,
     "metadata": {},
     "output_type": "execute_result"
    }
   ],
   "source": [
    "compar.groupby(['Clust']).mean()"
   ]
  },
  {
   "cell_type": "markdown",
   "id": "5dbfba48",
   "metadata": {},
   "source": [
    "### Stacking"
   ]
  },
  {
   "cell_type": "code",
   "execution_count": 63,
   "id": "ff3dec13",
   "metadata": {},
   "outputs": [],
   "source": [
    "from sklearn.ensemble import RandomForestRegressor\n",
    "from sklearn.ensemble import StackingRegressor"
   ]
  },
  {
   "cell_type": "code",
   "execution_count": 193,
   "id": "e3bc9d97",
   "metadata": {},
   "outputs": [],
   "source": [
    "estimators = [\n",
    "            ('grdb', GradientBoostingRegressor(random_state=666)),\n",
    "            ('rfr', RandomForestRegressor(random_state=666)),\n",
    "            ('rdg', Ridge(random_state=666))]"
   ]
  },
  {
   "cell_type": "code",
   "execution_count": 194,
   "id": "75097226",
   "metadata": {},
   "outputs": [],
   "source": [
    "stk_reg = StackingRegressor(\n",
    "        estimators=estimators\n",
    "        )"
   ]
  },
  {
   "cell_type": "code",
   "execution_count": 210,
   "id": "b36ccb33",
   "metadata": {},
   "outputs": [],
   "source": [
    "X_train_all = all_data_enc_tr.drop('SalePrice', axis=1)\n",
    "Y_train_all = all_data_enc_tr['SalePrice']"
   ]
  },
  {
   "cell_type": "code",
   "execution_count": 212,
   "id": "26b26921",
   "metadata": {},
   "outputs": [
    {
     "data": {
      "text/plain": [
       "StackingRegressor(estimators=[('grdb',\n",
       "                               GradientBoostingRegressor(random_state=666)),\n",
       "                              ('rfr', RandomForestRegressor(random_state=666)),\n",
       "                              ('rdg', Ridge(random_state=666))])"
      ]
     },
     "execution_count": 212,
     "metadata": {},
     "output_type": "execute_result"
    }
   ],
   "source": [
    "stk_reg.fit(X_train_all, Y_train_all)"
   ]
  },
  {
   "cell_type": "code",
   "execution_count": 213,
   "id": "8cb08286",
   "metadata": {},
   "outputs": [
    {
     "name": "stdout",
     "output_type": "stream",
     "text": [
      "train, RMSLE:  0.07551726895716346\n",
      "test, RMSLE:  0.07188948856541395\n"
     ]
    }
   ],
   "source": [
    "print('train, RMSLE: ', str(mean_squared_log_error(np.exp(Y_train), np.exp(stk_reg.predict(X_train)), squared=False)))\n",
    "print('test, RMSLE: ', str(mean_squared_log_error(np.exp(Y_test), np.exp(stk_reg.predict(X_test)), squared=False)))"
   ]
  },
  {
   "cell_type": "markdown",
   "id": "fca1dd39",
   "metadata": {},
   "source": [
    "#### filling sales for test data (with Ridge)"
   ]
  },
  {
   "cell_type": "code",
   "execution_count": 68,
   "id": "da96bb4c",
   "metadata": {},
   "outputs": [],
   "source": [
    "all_data_enc_tst = all_data_enc_st[all_data_enc_st['Train Dataset']==0]\n",
    "all_data_enc_tst = all_data_enc_tst.drop(['Train Dataset', 'SalePrice'], axis=1)"
   ]
  },
  {
   "cell_type": "code",
   "execution_count": 69,
   "id": "c1a7dc64",
   "metadata": {},
   "outputs": [
    {
     "ename": "NameError",
     "evalue": "name 'grdb1' is not defined",
     "output_type": "error",
     "traceback": [
      "\u001b[0;31m---------------------------------------------------------------------------\u001b[0m",
      "\u001b[0;31mNameError\u001b[0m                                 Traceback (most recent call last)",
      "\u001b[0;32m/var/folders/00/jtb7c8xn51902fgjqt4qh5h80000gp/T/ipykernel_93918/2963929635.py\u001b[0m in \u001b[0;36m<module>\u001b[0;34m\u001b[0m\n\u001b[0;32m----> 1\u001b[0;31m \u001b[0mall_data_enc_tst\u001b[0m\u001b[0;34m[\u001b[0m\u001b[0;34m'SalePrice'\u001b[0m\u001b[0;34m]\u001b[0m \u001b[0;34m=\u001b[0m \u001b[0mgrdb1\u001b[0m\u001b[0;34m.\u001b[0m\u001b[0mpredict\u001b[0m\u001b[0;34m(\u001b[0m\u001b[0mall_data_enc_tst\u001b[0m\u001b[0;34m)\u001b[0m\u001b[0;34m\u001b[0m\u001b[0;34m\u001b[0m\u001b[0m\n\u001b[0m",
      "\u001b[0;31mNameError\u001b[0m: name 'grdb1' is not defined"
     ]
    }
   ],
   "source": [
    "all_data_enc_tst['SalePrice'] = grdb1.predict(all_data_enc_tst)"
   ]
  },
  {
   "cell_type": "code",
   "execution_count": null,
   "id": "e1b58d1b",
   "metadata": {},
   "outputs": [
    {
     "data": {
      "text/plain": [
       "((1459, 71), (1460, 71))"
      ]
     },
     "execution_count": 313,
     "metadata": {},
     "output_type": "execute_result"
    }
   ],
   "source": [
    "all_data_enc_tst.shape, all_data_enc_tr.shape"
   ]
  },
  {
   "cell_type": "code",
   "execution_count": null,
   "id": "1eb978b8",
   "metadata": {},
   "outputs": [
    {
     "ename": "NameError",
     "evalue": "name 'pd' is not defined",
     "output_type": "error",
     "traceback": [
      "\u001b[0;31m---------------------------------------------------------------------------\u001b[0m",
      "\u001b[0;31mNameError\u001b[0m                                 Traceback (most recent call last)",
      "\u001b[0;32m/var/folders/00/jtb7c8xn51902fgjqt4qh5h80000gp/T/ipykernel_93918/2114487863.py\u001b[0m in \u001b[0;36m<module>\u001b[0;34m\u001b[0m\n\u001b[0;32m----> 1\u001b[0;31m \u001b[0mall_data_grb\u001b[0m \u001b[0;34m=\u001b[0m \u001b[0mpd\u001b[0m\u001b[0;34m.\u001b[0m\u001b[0mconcat\u001b[0m\u001b[0;34m(\u001b[0m\u001b[0;34m[\u001b[0m\u001b[0mall_data_enc_tr\u001b[0m\u001b[0;34m,\u001b[0m \u001b[0mall_data_enc_tst\u001b[0m\u001b[0;34m]\u001b[0m\u001b[0;34m)\u001b[0m\u001b[0;34m\u001b[0m\u001b[0;34m\u001b[0m\u001b[0m\n\u001b[0m",
      "\u001b[0;31mNameError\u001b[0m: name 'pd' is not defined"
     ]
    }
   ],
   "source": [
    "all_data_grb = pd.concat([all_data_enc_tr, all_data_enc_tst])"
   ]
  },
  {
   "cell_type": "code",
   "execution_count": null,
   "id": "de458037",
   "metadata": {},
   "outputs": [],
   "source": []
  },
  {
   "cell_type": "markdown",
   "id": "b1d393ac",
   "metadata": {},
   "source": [
    "## To Kaggle"
   ]
  },
  {
   "cell_type": "code",
   "execution_count": 214,
   "id": "7fc7653f-3c2e-4772-9d36-89ea15b69d0e",
   "metadata": {
    "tags": []
   },
   "outputs": [],
   "source": [
    "# Для подключения стандартизированных данных из выборки ТЕСТ\n",
    "all_data_enc_tst=all_data_enc_st[all_data_enc_st['Train Dataset']==0].iloc[:,:-2]\n",
    "# all_data_origin"
   ]
  },
  {
   "cell_type": "code",
   "execution_count": 215,
   "id": "48b848a7-752c-4395-8746-16ddc25d1088",
   "metadata": {},
   "outputs": [],
   "source": [
    "Y_for_Kaggle=np.exp(stk_reg.predict(all_data_enc_tst))"
   ]
  },
  {
   "cell_type": "code",
   "execution_count": 216,
   "id": "6a3a308e-17cd-425a-8bc8-5a2fee6367f9",
   "metadata": {},
   "outputs": [],
   "source": [
    "DF_Kaggle=pd.read_csv('house-prices-advanced-regression-techniques/sample_submission.csv')\n",
    "DF_Kaggle['SalePrice']=pd.DataFrame(Y_for_Kaggle)\n",
    "DF_Kaggle.to_csv('Kaggle_submission.csv', index=False)"
   ]
  },
  {
   "cell_type": "code",
   "execution_count": 220,
   "id": "6bfe6a1e-73a5-415f-b6b0-898f4102c0d2",
   "metadata": {},
   "outputs": [
    {
     "name": "stdout",
     "output_type": "stream",
     "text": [
      "Warning: Your Kaggle API key is readable by other users on this system! To fix this, you can run 'chmod 600 /Users/oslikdau/.kaggle/kaggle.json'\n",
      "100%|██████████████████████████████████████| 33.7k/33.7k [00:02<00:00, 15.9kB/s]\n",
      "Successfully submitted to House Prices - Advanced Regression Techniques"
     ]
    }
   ],
   "source": [
    "!kaggle competitions submit -c house-prices-advanced-regression-techniques -f Kaggle_submission.csv -m \"all above + onehot's\""
   ]
  },
  {
   "cell_type": "markdown",
   "id": "78f16f3b",
   "metadata": {},
   "source": [
    "- добавить one-hot для категорийных (по крайней мере для основных, половины)\n",
    "- кластеризация на переменных по группам (по смыслу)\n",
    "- LGBM\n",
    "- анализ больших отклонений (MSE - чем больше отклонение тем больше вклад в ошибку)"
   ]
  }
 ],
 "metadata": {
  "kernelspec": {
   "display_name": "Python 3 (ipykernel)",
   "language": "python",
   "name": "python3"
  },
  "language_info": {
   "codemirror_mode": {
    "name": "ipython",
    "version": 3
   },
   "file_extension": ".py",
   "mimetype": "text/x-python",
   "name": "python",
   "nbconvert_exporter": "python",
   "pygments_lexer": "ipython3",
   "version": "3.8.12"
  }
 },
 "nbformat": 4,
 "nbformat_minor": 5
}
